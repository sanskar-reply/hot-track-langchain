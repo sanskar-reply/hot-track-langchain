{
  "cells": [
    {
      "cell_type": "markdown",
      "id": "9c48213d-6e6a-4c10-838a-2a7c710c3a05",
      "metadata": {
        "id": "9c48213d-6e6a-4c10-838a-2a7c710c3a05"
      },
      "source": [
        "# Simple Index Demo"
      ]
    },
    {
      "cell_type": "markdown",
      "id": "50d3b817-b70e-4667-be4f-d3a0fe4bd119",
      "metadata": {
        "id": "50d3b817-b70e-4667-be4f-d3a0fe4bd119"
      },
      "source": [
        "#### Load documents, build the GPTSimpleVectorIndex"
      ]
    },
    {
      "cell_type": "code",
      "execution_count": null,
      "id": "IL_iRLqWzAcb",
      "metadata": {
        "colab": {
          "base_uri": "https://localhost:8080/"
        },
        "id": "IL_iRLqWzAcb",
        "outputId": "705cdb09-b446-47ab-deb6-62c091b60c12"
      },
      "outputs": [],
      "source": [
        "%pip install llama-index==0.6.27"
      ]
    },
    {
      "cell_type": "code",
      "execution_count": null,
      "id": "ztI0qFMsfB4A",
      "metadata": {
        "id": "ztI0qFMsfB4A"
      },
      "outputs": [],
      "source": [
        "# My OpenAI Key\n",
        "import os\n",
        "os.environ[\"OPENAI_API_KEY\"] = \"sk-...\"\n",
        "# openai.api_key = os.environ[\"OPENAI_API_KEY\"]"
      ]
    },
    {
      "cell_type": "code",
      "execution_count": null,
      "id": "690a6918-7c75-4f95-9ccc-d2c4a1fe00d7",
      "metadata": {
        "id": "690a6918-7c75-4f95-9ccc-d2c4a1fe00d7"
      },
      "outputs": [],
      "source": [
        "import logging\n",
        "import sys\n",
        "import requests\n",
        "\n",
        "logging.basicConfig(stream=sys.stdout, level=logging.INFO)\n",
        "logging.getLogger().addHandler(logging.StreamHandler(stream=sys.stdout))\n",
        "\n",
        "\n",
        "from llama_index import GPTVectorStoreIndex, download_loader\n",
        "from IPython.display import Markdown, display"
      ]
    },
    {
      "cell_type": "markdown",
      "id": "0Wv5ds67aXgx",
      "metadata": {
        "id": "0Wv5ds67aXgx"
      },
      "source": [
        "### Use SimpleWebPageReader"
      ]
    },
    {
      "cell_type": "markdown",
      "id": "8E9GtvG1aWaX",
      "metadata": {
        "id": "8E9GtvG1aWaX"
      },
      "source": [
        "#### Build Index"
      ]
    },
    {
      "cell_type": "code",
      "execution_count": null,
      "id": "qCeO0AwHZ3J4",
      "metadata": {
        "id": "qCeO0AwHZ3J4"
      },
      "outputs": [],
      "source": [
        "# download web page loader from LlamaHub\n",
        "SimpleWebPageReader = download_loader(\"SimpleWebPageReader\")"
      ]
    },
    {
      "cell_type": "code",
      "execution_count": null,
      "id": "Vq6PzB0eSrWq",
      "metadata": {
        "colab": {
          "base_uri": "https://localhost:8080/"
        },
        "id": "Vq6PzB0eSrWq",
        "outputId": "e4d059f6-e788-41ba-f036-ad582a9bbeb1"
      },
      "outputs": [],
      "source": [
        "SimpleWebPageReader"
      ]
    },
    {
      "cell_type": "code",
      "execution_count": null,
      "id": "G-yetszHaGfo",
      "metadata": {
        "id": "G-yetszHaGfo"
      },
      "outputs": [],
      "source": [
        "# load in PG's essay\n",
        "documents = SimpleWebPageReader(html_to_text=True).load_data([\"http://paulgraham.com/worked.html\"])"
      ]
    },
    {
      "cell_type": "code",
      "execution_count": null,
      "id": "BEUjEFxmuiEp",
      "metadata": {
        "colab": {
          "base_uri": "https://localhost:8080/",
          "height": 1000
        },
        "id": "BEUjEFxmuiEp",
        "outputId": "cc110969-c669-4e8d-d81f-69cd9d9ed861"
      },
      "outputs": [],
      "source": [
        "documents[0].get_text()"
      ]
    },
    {
      "cell_type": "code",
      "execution_count": null,
      "id": "ad144ee7-96da-4dd6-be00-fd6cf0c78e58",
      "metadata": {
        "id": "ad144ee7-96da-4dd6-be00-fd6cf0c78e58",
        "scrolled": true
      },
      "outputs": [],
      "source": [
        "index = GPTVectorStoreIndex.from_documents(documents)"
      ]
    },
    {
      "cell_type": "markdown",
      "id": "b6caf93b-6345-4c65-a346-a95b0f1746c4",
      "metadata": {
        "id": "b6caf93b-6345-4c65-a346-a95b0f1746c4"
      },
      "source": [
        "#### Query Index"
      ]
    },
    {
      "cell_type": "code",
      "execution_count": null,
      "id": "85466fdf-93f3-4cb1-a5f9-0056a8245a6f",
      "metadata": {
        "id": "85466fdf-93f3-4cb1-a5f9-0056a8245a6f",
        "scrolled": true
      },
      "outputs": [],
      "source": [
        "# set Logging to DEBUG for more detailed outputs\n",
        "query_engine = index.as_query_engine()\n",
        "response = query_engine.query(\"What did the author do growing up?\")"
      ]
    },
    {
      "cell_type": "code",
      "execution_count": null,
      "id": "bdda1b2c-ae46-47cf-91d7-3153e8d0473b",
      "metadata": {
        "colab": {
          "base_uri": "https://localhost:8080/",
          "height": 69
        },
        "id": "bdda1b2c-ae46-47cf-91d7-3153e8d0473b",
        "outputId": "a1f6ec73-618c-4009-9723-5d9f37194c8c"
      },
      "outputs": [],
      "source": [
        "display(Markdown(f\"<b>{response}</b>\"))"
      ]
    },
    {
      "cell_type": "code",
      "execution_count": null,
      "id": "A1CheI_zmysG",
      "metadata": {
        "colab": {
          "base_uri": "https://localhost:8080/"
        },
        "id": "A1CheI_zmysG",
        "outputId": "f3a70a56-67c9-4b55-9feb-703844186fd2"
      },
      "outputs": [],
      "source": [
        "sn1 = response.source_nodes[0]\n",
        "sn1.similarity\n",
        "print(sn1.node.get_text())"
      ]
    },
    {
      "cell_type": "code",
      "execution_count": null,
      "id": "xMbpnlFtnIWv",
      "metadata": {
        "id": "xMbpnlFtnIWv"
      },
      "outputs": [],
      "source": [
        "# set Logging to DEBUG for more detailed outputs\n",
        "query_engine = index.as_query_engine()\n",
        "response = query_engine.query(\"What are times the author was angry?\")"
      ]
    },
    {
      "cell_type": "code",
      "execution_count": null,
      "id": "ONfEAd60nPAP",
      "metadata": {
        "colab": {
          "base_uri": "https://localhost:8080/",
          "height": 69
        },
        "id": "ONfEAd60nPAP",
        "outputId": "7000942c-1adb-40fe-d816-469c6834180a"
      },
      "outputs": [],
      "source": [
        "display(Markdown(f\"<b>{response}</b>\"))"
      ]
    },
    {
      "cell_type": "markdown",
      "id": "5636a15c-8938-4809-958b-03b8c445ecbd",
      "metadata": {
        "id": "5636a15c-8938-4809-958b-03b8c445ecbd"
      },
      "source": [
        "#### Get Sources"
      ]
    },
    {
      "cell_type": "code",
      "execution_count": null,
      "id": "db22a939-497b-4b1f-9aed-f22d9ca58c92",
      "metadata": {
        "id": "db22a939-497b-4b1f-9aed-f22d9ca58c92"
      },
      "outputs": [],
      "source": [
        "print(response.get_formatted_sources())"
      ]
    },
    {
      "cell_type": "markdown",
      "id": "GUNR5KV4akFp",
      "metadata": {
        "id": "GUNR5KV4akFp"
      },
      "source": [
        "### Use Image Reader"
      ]
    },
    {
      "cell_type": "code",
      "execution_count": null,
      "id": "-nabo_kDedaj",
      "metadata": {
        "id": "-nabo_kDedaj"
      },
      "outputs": [],
      "source": [
        "from llama_index.response.notebook_utils import (\n",
        "    display_response,\n",
        "    display_image,\n",
        ")\n",
        "from llama_index.indices.query.query_transform.base import (\n",
        "    ImageOutputQueryTransform,\n",
        ")"
      ]
    },
    {
      "cell_type": "code",
      "execution_count": null,
      "id": "X64Q4KwKanWQ",
      "metadata": {
        "id": "X64Q4KwKanWQ"
      },
      "outputs": [],
      "source": [
        "# download directory reader from LlamaHub\n",
        "# directory reader will download image parsers as needed depending on file extension\n",
        "SimpleDirectoryReader = download_loader(\"SimpleDirectoryReader\")\n",
        "ImageReader = download_loader(\"ImageReader\")"
      ]
    },
    {
      "cell_type": "code",
      "execution_count": null,
      "id": "dURbx-MSbQYg",
      "metadata": {
        "colab": {
          "base_uri": "https://localhost:8080/"
        },
        "id": "dURbx-MSbQYg",
        "outputId": "4a025384-d3a0-41af-96e6-7a81dff0836c"
      },
      "outputs": [],
      "source": [
        "import requests\n",
        "# unpack receipts\n",
        "response = requests.get(\"https://www.dropbox.com/s/wl2h9mn7rb1dypc/receipts.zip?dl=1\")\n",
        "with open(\"receipts.zip\", \"wb\") as fp:\n",
        "  fp.write(response.content)"
      ]
    },
    {
      "cell_type": "code",
      "execution_count": null,
      "id": "8d8bac65",
      "metadata": {},
      "outputs": [],
      "source": [
        "%unzip receipts.zip"
      ]
    },
    {
      "cell_type": "code",
      "execution_count": null,
      "id": "rWEYUNsYaxNW",
      "metadata": {
        "colab": {
          "base_uri": "https://localhost:8080/"
        },
        "id": "rWEYUNsYaxNW",
        "outputId": "ee4669ed-f5d5-4253-8b03-eec4288df4cb"
      },
      "outputs": [],
      "source": [
        "# initialize directory reader\n",
        "image_extractor = {\n",
        "    \".jpg\": ImageReader(text_type=\"donut\")\n",
        "}\n",
        "reader = SimpleDirectoryReader(\"receipts\", file_extractor=image_extractor)\n",
        "\n"
      ]
    },
    {
      "cell_type": "code",
      "execution_count": null,
      "id": "iIch2n4ddnQY",
      "metadata": {
        "id": "iIch2n4ddnQY"
      },
      "outputs": [],
      "source": [
        "# load the image\n",
        "# NOTE: will be slow on Google Colab\n",
        "documents = reader.load_data()"
      ]
    },
    {
      "cell_type": "code",
      "execution_count": null,
      "id": "qYnai2ejc0Cp",
      "metadata": {
        "colab": {
          "base_uri": "https://localhost:8080/"
        },
        "id": "qYnai2ejc0Cp",
        "outputId": "25e9cef4-fea6-4fb6-bc82-14e50e2cbc03"
      },
      "outputs": [],
      "source": [
        "documents[0]"
      ]
    },
    {
      "cell_type": "code",
      "execution_count": null,
      "id": "Dr4TRndYe2md",
      "metadata": {
        "id": "Dr4TRndYe2md"
      },
      "outputs": [],
      "source": [
        "index = GPTSimpleVectorIndex.from_documents(documents)"
      ]
    },
    {
      "cell_type": "code",
      "execution_count": null,
      "id": "h6nst8w-eM-f",
      "metadata": {
        "id": "h6nst8w-eM-f"
      },
      "outputs": [],
      "source": [
        "query_engine = index.as_query_engine()\n",
        "receipts_response = query_engine  .query(\n",
        "    'When was the last time I went to McDonald\\'s and how much did I spend. \\\n",
        "    Also show me the receipt from my visit.',\n",
        "    query_transform=ImageOutputQueryTransform(width=400)\n",
        ")"
      ]
    },
    {
      "cell_type": "code",
      "execution_count": null,
      "id": "XU7g4Dhae1CW",
      "metadata": {
        "colab": {
          "base_uri": "https://localhost:8080/",
          "height": 141,
          "resources": {
            "http://localhost:8080/data/mcdonalds_receipt.jpg": {
              "data": "CjwhRE9DVFlQRSBodG1sPgo8aHRtbCBsYW5nPWVuPgogIDxtZXRhIGNoYXJzZXQ9dXRmLTg+CiAgPG1ldGEgbmFtZT12aWV3cG9ydCBjb250ZW50PSJpbml0aWFsLXNjYWxlPTEsIG1pbmltdW0tc2NhbGU9MSwgd2lkdGg9ZGV2aWNlLXdpZHRoIj4KICA8dGl0bGU+RXJyb3IgNDA0IChOb3QgRm91bmQpISExPC90aXRsZT4KICA8c3R5bGU+CiAgICAqe21hcmdpbjowO3BhZGRpbmc6MH1odG1sLGNvZGV7Zm9udDoxNXB4LzIycHggYXJpYWwsc2Fucy1zZXJpZn1odG1se2JhY2tncm91bmQ6I2ZmZjtjb2xvcjojMjIyO3BhZGRpbmc6MTVweH1ib2R5e21hcmdpbjo3JSBhdXRvIDA7bWF4LXdpZHRoOjM5MHB4O21pbi1oZWlnaHQ6MTgwcHg7cGFkZGluZzozMHB4IDAgMTVweH0qID4gYm9keXtiYWNrZ3JvdW5kOnVybCgvL3d3dy5nb29nbGUuY29tL2ltYWdlcy9lcnJvcnMvcm9ib3QucG5nKSAxMDAlIDVweCBuby1yZXBlYXQ7cGFkZGluZy1yaWdodDoyMDVweH1we21hcmdpbjoxMXB4IDAgMjJweDtvdmVyZmxvdzpoaWRkZW59aW5ze2NvbG9yOiM3Nzc7dGV4dC1kZWNvcmF0aW9uOm5vbmV9YSBpbWd7Ym9yZGVyOjB9QG1lZGlhIHNjcmVlbiBhbmQgKG1heC13aWR0aDo3NzJweCl7Ym9keXtiYWNrZ3JvdW5kOm5vbmU7bWFyZ2luLXRvcDowO21heC13aWR0aDpub25lO3BhZGRpbmctcmlnaHQ6MH19I2xvZ297YmFja2dyb3VuZDp1cmwoLy93d3cuZ29vZ2xlLmNvbS9pbWFnZXMvbG9nb3MvZXJyb3JwYWdlL2Vycm9yX2xvZ28tMTUweDU0LnBuZykgbm8tcmVwZWF0O21hcmdpbi1sZWZ0Oi01cHh9QG1lZGlhIG9ubHkgc2NyZWVuIGFuZCAobWluLXJlc29sdXRpb246MTkyZHBpKXsjbG9nb3tiYWNrZ3JvdW5kOnVybCgvL3d3dy5nb29nbGUuY29tL2ltYWdlcy9sb2dvcy9lcnJvcnBhZ2UvZXJyb3JfbG9nby0xNTB4NTQtMngucG5nKSBuby1yZXBlYXQgMCUgMCUvMTAwJSAxMDAlOy1tb3otYm9yZGVyLWltYWdlOnVybCgvL3d3dy5nb29nbGUuY29tL2ltYWdlcy9sb2dvcy9lcnJvcnBhZ2UvZXJyb3JfbG9nby0xNTB4NTQtMngucG5nKSAwfX1AbWVkaWEgb25seSBzY3JlZW4gYW5kICgtd2Via2l0LW1pbi1kZXZpY2UtcGl4ZWwtcmF0aW86Mil7I2xvZ297YmFja2dyb3VuZDp1cmwoLy93d3cuZ29vZ2xlLmNvbS9pbWFnZXMvbG9nb3MvZXJyb3JwYWdlL2Vycm9yX2xvZ28tMTUweDU0LTJ4LnBuZykgbm8tcmVwZWF0Oy13ZWJraXQtYmFja2dyb3VuZC1zaXplOjEwMCUgMTAwJX19I2xvZ297ZGlzcGxheTppbmxpbmUtYmxvY2s7aGVpZ2h0OjU0cHg7d2lkdGg6MTUwcHh9CiAgPC9zdHlsZT4KICA8YSBocmVmPS8vd3d3Lmdvb2dsZS5jb20vPjxzcGFuIGlkPWxvZ28gYXJpYS1sYWJlbD1Hb29nbGU+PC9zcGFuPjwvYT4KICA8cD48Yj40MDQuPC9iPiA8aW5zPlRoYXTigJlzIGFuIGVycm9yLjwvaW5zPgogIDxwPiAgPGlucz5UaGF04oCZcyBhbGwgd2Uga25vdy48L2lucz4K",
              "headers": [
                [
                  "content-length",
                  "1449"
                ],
                [
                  "content-type",
                  "text/html; charset=utf-8"
                ]
              ],
              "ok": false,
              "status": 404,
              "status_text": ""
            }
          }
        },
        "id": "XU7g4Dhae1CW",
        "outputId": "fcb9e9be-4e3a-4b18-df61-543a939acc0d"
      },
      "outputs": [],
      "source": [
        "display_response(receipts_response)"
      ]
    }
  ],
  "metadata": {
    "colab": {
      "provenance": []
    },
    "kernelspec": {
      "display_name": "Python 3 (ipykernel)",
      "language": "python",
      "name": "python3"
    },
    "language_info": {
      "codemirror_mode": {
        "name": "ipython",
        "version": 3
      },
      "file_extension": ".py",
      "mimetype": "text/x-python",
      "name": "python",
      "nbconvert_exporter": "python",
      "pygments_lexer": "ipython3",
      "version": "3.9.16"
    }
  },
  "nbformat": 4,
  "nbformat_minor": 5
}
