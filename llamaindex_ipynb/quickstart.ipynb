{
  "cells": [
    {
      "cell_type": "markdown",
      "id": "9c48213d-6e6a-4c10-838a-2a7c710c3a05",
      "metadata": {
        "id": "9c48213d-6e6a-4c10-838a-2a7c710c3a05"
      },
      "source": [
        "# Simple Index Demo"
      ]
    },
    {
      "cell_type": "markdown",
      "id": "50d3b817-b70e-4667-be4f-d3a0fe4bd119",
      "metadata": {
        "id": "50d3b817-b70e-4667-be4f-d3a0fe4bd119"
      },
      "source": [
        "#### Load documents, build the GPTSimpleVectorIndex"
      ]
    },
    {
      "cell_type": "code",
      "execution_count": null,
      "id": "IL_iRLqWzAcb",
      "metadata": {
        "colab": {
          "base_uri": "https://localhost:8080/"
        },
        "id": "IL_iRLqWzAcb",
        "outputId": "b4787f64-a484-4f40-d9d5-2a43a2674e07"
      },
      "outputs": [],
      "source": [
        "%pip install llama-index"
      ]
    },
    {
      "cell_type": "code",
      "execution_count": null,
      "id": "kjHjfHmNfDiD",
      "metadata": {
        "id": "kjHjfHmNfDiD"
      },
      "outputs": [],
      "source": [
        "# My OpenAI Key\n",
        "import os\n",
        "os.environ[\"OPENAI_API_KEY\"] = \"sk-...\"\n",
        "# openai.api_key = os.environ[\"OPENAI_API_KEY\"]"
      ]
    },
    {
      "cell_type": "code",
      "execution_count": null,
      "id": "690a6918-7c75-4f95-9ccc-d2c4a1fe00d7",
      "metadata": {
        "id": "690a6918-7c75-4f95-9ccc-d2c4a1fe00d7"
      },
      "outputs": [],
      "source": [
        "import logging\n",
        "import sys\n",
        "import requests\n",
        "\n",
        "logging.basicConfig(stream=sys.stdout, level=logging.INFO)\n",
        "logging.getLogger().addHandler(logging.StreamHandler(stream=sys.stdout))\n",
        "\n",
        "from llama_index import GPTSimpleVectorIndex, SimpleDirectoryReader, GPTListIndex\n",
        "from IPython.display import Markdown, display"
      ]
    },
    {
      "cell_type": "code",
      "execution_count": null,
      "id": "mnqwtjWpzsU3",
      "metadata": {
        "id": "mnqwtjWpzsU3"
      },
      "outputs": [],
      "source": [
        "# download paul graham's essay\n",
        "response = requests.get(\"https://www.dropbox.com/s/f6bmb19xdg0xedm/paul_graham_essay.txt?dl=1\")\n",
        "essay_txt = response.text\n",
        "with open(\"pg_essay.txt\", \"w\") as fp:\n",
        "  fp.write(essay_txt)"
      ]
    },
    {
      "cell_type": "code",
      "execution_count": null,
      "id": "yxMArfvfzv_z",
      "metadata": {
        "id": "yxMArfvfzv_z"
      },
      "outputs": [],
      "source": [
        "# load documents\n",
        "documents = SimpleDirectoryReader(input_files=['pg_essay.txt']).load_data()"
      ]
    },
    {
      "cell_type": "code",
      "execution_count": null,
      "id": "80s2TGHFkWOU",
      "metadata": {
        "id": "80s2TGHFkWOU"
      },
      "outputs": [],
      "source": [
        "documents[0]"
      ]
    },
    {
      "cell_type": "code",
      "execution_count": null,
      "id": "s80MMRyHCVKF",
      "metadata": {
        "id": "s80MMRyHCVKF"
      },
      "outputs": [],
      "source": [
        "index = GPTSimpleVectorIndex.from_documents(documents)"
      ]
    },
    {
      "cell_type": "code",
      "execution_count": null,
      "id": "2bbccf1d-ac39-427c-b3a3-f8e9d1d12348",
      "metadata": {
        "id": "2bbccf1d-ac39-427c-b3a3-f8e9d1d12348"
      },
      "outputs": [],
      "source": [
        "# save index to disk\n",
        "index.save_to_disk('index_simple.json')"
      ]
    },
    {
      "cell_type": "code",
      "execution_count": null,
      "id": "197ca78e-1310-474d-91e3-877c3636b901",
      "metadata": {
        "id": "197ca78e-1310-474d-91e3-877c3636b901"
      },
      "outputs": [],
      "source": [
        "# load index from disk\n",
        "index = GPTSimpleVectorIndex.load_from_disk('index_simple.json')"
      ]
    },
    {
      "cell_type": "markdown",
      "id": "b6caf93b-6345-4c65-a346-a95b0f1746c4",
      "metadata": {
        "id": "b6caf93b-6345-4c65-a346-a95b0f1746c4"
      },
      "source": [
        "#### Query Index"
      ]
    },
    {
      "cell_type": "code",
      "execution_count": null,
      "id": "85466fdf-93f3-4cb1-a5f9-0056a8245a6f",
      "metadata": {
        "id": "85466fdf-93f3-4cb1-a5f9-0056a8245a6f",
        "scrolled": true
      },
      "outputs": [],
      "source": [
        "# set Logging to DEBUG for more detailed outputs\n",
        "response = index.query(\n",
        "    \"What did the author do growing up?\",\n",
        ")"
      ]
    },
    {
      "cell_type": "code",
      "execution_count": null,
      "id": "bdda1b2c-ae46-47cf-91d7-3153e8d0473b",
      "metadata": {
        "colab": {
          "base_uri": "https://localhost:8080/",
          "height": 133
        },
        "id": "bdda1b2c-ae46-47cf-91d7-3153e8d0473b",
        "outputId": "013eeaa8-c125-4be1-becf-2825f8175e17"
      },
      "outputs": [],
      "source": [
        "display(Markdown(f\"<b>{response}</b>\"))"
      ]
    },
    {
      "cell_type": "markdown",
      "id": "5636a15c-8938-4809-958b-03b8c445ecbd",
      "metadata": {
        "id": "5636a15c-8938-4809-958b-03b8c445ecbd"
      },
      "source": [
        "#### Get Sources"
      ]
    },
    {
      "cell_type": "code",
      "execution_count": null,
      "id": "db22a939-497b-4b1f-9aed-f22d9ca58c92",
      "metadata": {
        "colab": {
          "base_uri": "https://localhost:8080/"
        },
        "id": "db22a939-497b-4b1f-9aed-f22d9ca58c92",
        "outputId": "e0371942-e237-4b5a-8bcb-79dc73f65077"
      },
      "outputs": [],
      "source": [
        "print(response.source_nodes[0].node.get_text())"
      ]
    }
  ],
  "metadata": {
    "colab": {
      "provenance": []
    },
    "kernelspec": {
      "display_name": "Python 3 (ipykernel)",
      "language": "python",
      "name": "python3"
    },
    "language_info": {
      "codemirror_mode": {
        "name": "ipython",
        "version": 3
      },
      "file_extension": ".py",
      "mimetype": "text/x-python",
      "name": "python",
      "nbconvert_exporter": "python",
      "pygments_lexer": "ipython3",
      "version": "3.9.16"
    }
  },
  "nbformat": 4,
  "nbformat_minor": 5
}
