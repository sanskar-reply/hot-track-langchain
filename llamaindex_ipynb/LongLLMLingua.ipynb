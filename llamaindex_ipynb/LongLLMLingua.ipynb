{
  "cells": [
    {
      "cell_type": "markdown",
      "metadata": {
        "id": "9JwrrnkKF9HF"
      },
      "source": [
        "# LongLLMLingua\n",
        "\n",
        "<a href=\"https://colab.research.google.com/github/run-llama/llama_index/blob/main/docs/examples/node_postprocessor/LongLLMLingua.ipynb\" target=\"_parent\"><img src=\"https://colab.research.google.com/assets/colab-badge.svg\" alt=\"Open In Colab\"/></a>\n",
        "\n",
        "LongLLMLingua is a research project/paper that presents a new method for prompt compression in the long-context setting.\n",
        "\n",
        "- Paper: https://arxiv.org/abs/2310.06839\n",
        "- Repo: https://github.com/microsoft/LLMLingua\n",
        "\n",
        "In this guide, we show how you can seamlessly use prompt compression in your RAG pipeline. We implement LongLLMLingua as a node postprocessor, which will compress context after the retrieval step before feeding it into the LLM.\n",
        "\n",
        "**NOTE**: we don't implement the [subsequence recovery method](https://github.com/microsoft/LLMLingua/blob/main/DOCUMENT.md#post-precessing) since that is after the step of processing the nodes.\n",
        "\n",
        "**NOTE**: You need quite a bit of RAM/GPU capacity to run this. We got it working on Colab Pro with a V100 instance."
      ]
    },
    {
      "cell_type": "code",
      "execution_count": null,
      "metadata": {
        "id": "-Ay-z_EnF9HG"
      },
      "outputs": [],
      "source": [
        "%pip install llmlingua llama-index"
      ]
    },
    {
      "cell_type": "code",
      "execution_count": null,
      "metadata": {
        "id": "ZEdacZ_8F9HI"
      },
      "outputs": [],
      "source": [
        "import openai"
      ]
    },
    {
      "cell_type": "code",
      "execution_count": null,
      "metadata": {
        "id": "SeVbcfeFF9HI"
      },
      "outputs": [],
      "source": [
        "openai.api_key = \"<insert_openai_key>\""
      ]
    },
    {
      "cell_type": "markdown",
      "metadata": {
        "id": "X6_TQQCvF9HJ"
      },
      "source": [
        "## Setup (Data + Index)\n",
        "\n",
        "We load in PG's essay, index it, and define a retriever."
      ]
    },
    {
      "cell_type": "code",
      "execution_count": null,
      "metadata": {
        "id": "3kon8MwvF9HJ"
      },
      "outputs": [],
      "source": [
        "%wget \"https://www.dropbox.com/s/f6bmb19xdg0xedm/paul_graham_essay.txt?dl=1\" -O paul_graham_essay.txt"
      ]
    },
    {
      "cell_type": "code",
      "execution_count": null,
      "metadata": {
        "id": "DA-6hjgNF9HJ"
      },
      "outputs": [],
      "source": [
        "from llama_index import (\n",
        "    VectorStoreIndex,\n",
        "    SimpleDirectoryReader,\n",
        "    load_index_from_storage,\n",
        "    StorageContext,\n",
        ")"
      ]
    },
    {
      "cell_type": "code",
      "execution_count": null,
      "metadata": {
        "id": "PHedZaU2F9HJ"
      },
      "outputs": [],
      "source": [
        "# load documents\n",
        "documents = SimpleDirectoryReader(\n",
        "    input_files=[\"paul_graham_essay.txt\"]\n",
        ").load_data()"
      ]
    },
    {
      "cell_type": "code",
      "execution_count": null,
      "metadata": {
        "id": "vD7JZsYYF9HJ"
      },
      "outputs": [],
      "source": [
        "index = VectorStoreIndex.from_documents(documents)"
      ]
    },
    {
      "cell_type": "code",
      "execution_count": null,
      "metadata": {
        "id": "C2FgwcfCF9HJ"
      },
      "outputs": [],
      "source": [
        "retriever = index.as_retriever(similarity_top_k=2)"
      ]
    },
    {
      "cell_type": "code",
      "execution_count": null,
      "metadata": {
        "id": "sveGa5iuF9HK"
      },
      "outputs": [],
      "source": [
        "# query_str = \"What did the author do growing up?\"\n",
        "# query_str = \"What did the author do during his time in YC?\"\n",
        "query_str = \"Where did the author go for art school?\""
      ]
    },
    {
      "cell_type": "code",
      "execution_count": null,
      "metadata": {
        "id": "4s6Yk2mDF9HK"
      },
      "outputs": [],
      "source": [
        "results = retriever.retrieve(query_str)\n",
        "print(results)"
      ]
    },
    {
      "cell_type": "code",
      "execution_count": null,
      "metadata": {
        "id": "ZOZggCwQF9HK"
      },
      "outputs": [],
      "source": [
        "results"
      ]
    },
    {
      "cell_type": "markdown",
      "metadata": {
        "id": "p2NPflwWF9HL"
      },
      "source": [
        "## Setup LongLLMLingua as a Postprocessor\n",
        "\n",
        "We setup `LongLLMLinguaPostprocessor` which will use the `longllmlingua` package to run prompt compression.\n",
        "\n",
        "We specify a target token size of 300, and supply an instruction string.\n",
        "\n",
        "Special thanks to Huiqiang J. for the help with the parameters."
      ]
    },
    {
      "cell_type": "code",
      "execution_count": null,
      "metadata": {
        "colab": {
          "referenced_widgets": [
            "57f58855b3244325963cd7c9d7c0aa6c",
            "ad5fe1eb651f4f64a95f1f5e745b960d",
            "bea861a65e674fa4bbb2492f3e568500",
            "94c1b4c3e10b421da30d1dc3b93381bb",
            "9cb19567558f4d579b902b10deaf62df",
            "90863f352ff543159aa27fc147ce28bd",
            "25137b21c0a44b4e88d453d03eea1a37",
            "2a2be67fccfc478691a26a3c1c6fa87d",
            "315ef52c3205421b9b7b11b61731547f",
            "033ee9b2f03e485f96fd079d97bb2126",
            "c263cd2e5d274608848bdccb2876524c"
          ]
        },
        "id": "Jk6bN39sF9HL",
        "outputId": "bad37546-d85f-4ae5-e414-22abeac5f6d3"
      },
      "outputs": [],
      "source": [
        "from llama_index.query_engine import RetrieverQueryEngine\n",
        "from llama_index.response_synthesizers import CompactAndRefine\n",
        "from llama_index.postprocessor import LongLLMLinguaPostprocessor\n",
        "\n",
        "node_postprocessor = LongLLMLinguaPostprocessor(\n",
        "    instruction_str=\"Given the context, please answer the final question\",\n",
        "    target_token=300,\n",
        "    rank_method=\"longllmlingua\",\n",
        "    additional_compress_kwargs={\n",
        "        \"condition_compare\": True,\n",
        "        \"condition_in_question\": \"after\",\n",
        "        \"context_budget\": \"+100\",\n",
        "        \"reorder_context\": \"sort\",  # enable document reorder\n",
        "    },\n",
        ")"
      ]
    },
    {
      "cell_type": "markdown",
      "metadata": {
        "id": "66TqsS2mF9HM"
      },
      "source": [
        "## Try It Out\n",
        "\n",
        "We show you how to compose a retriever + compressor + query engine into a RAG pipeline.\n",
        "1. We show you this step by step.\n",
        "2. We show you how to do this in an out-of-the-box fashion with our `RetrieverQueryEngine`."
      ]
    },
    {
      "cell_type": "markdown",
      "metadata": {
        "id": "yqW_h5qlF9HM"
      },
      "source": [
        "### Step-by-Step"
      ]
    },
    {
      "cell_type": "code",
      "execution_count": null,
      "metadata": {
        "id": "0mFi4Xz-F9HM"
      },
      "outputs": [],
      "source": [
        "retrieved_nodes = retriever.retrieve(query_str)\n",
        "synthesizer = CompactAndRefine()"
      ]
    },
    {
      "cell_type": "code",
      "execution_count": null,
      "metadata": {
        "id": "CnCkZHAkF9HM"
      },
      "outputs": [],
      "source": [
        "from llama_index.schema import QueryBundle\n",
        "\n",
        "# outline steps in RetrieverQueryEngine for clarity:\n",
        "# postprocess (compress), synthesize\n",
        "new_retrieved_nodes = node_postprocessor.postprocess_nodes(\n",
        "    retrieved_nodes, query_bundle=QueryBundle(query_str=query_str)\n",
        ")"
      ]
    },
    {
      "cell_type": "code",
      "execution_count": null,
      "metadata": {
        "id": "zUGRkSOTF9HM",
        "outputId": "463291af-68b9-40f3-87ec-dbbfa8dff4e7"
      },
      "outputs": [],
      "source": [
        "print(\"\\n\\n\".join([n.get_content() for n in new_retrieved_nodes]))"
      ]
    },
    {
      "cell_type": "code",
      "execution_count": null,
      "metadata": {
        "id": "8l4v_mgHF9HM"
      },
      "outputs": [],
      "source": [
        "response = synthesizer.synthesize(query_str, new_retrieved_nodes)"
      ]
    },
    {
      "cell_type": "code",
      "execution_count": null,
      "metadata": {
        "id": "gjrkbeuoF9HM",
        "outputId": "a8bee1bf-5c14-492d-ae73-addabde69bc4"
      },
      "outputs": [],
      "source": [
        "print(str(response))"
      ]
    },
    {
      "cell_type": "markdown",
      "metadata": {
        "id": "2oEx0rZ1F9HN"
      },
      "source": [
        "### Out of the box with `RetrieverQueryEngine`"
      ]
    },
    {
      "cell_type": "code",
      "execution_count": null,
      "metadata": {
        "id": "8IKYAROrF9HN"
      },
      "outputs": [],
      "source": [
        "retriever_query_engine = RetrieverQueryEngine.from_args(\n",
        "    retriever, node_postprocessors=[node_postprocessor]\n",
        ")"
      ]
    },
    {
      "cell_type": "code",
      "execution_count": null,
      "metadata": {
        "id": "jDFxrqUSF9HN"
      },
      "outputs": [],
      "source": [
        "response = retriever_query_engine.query(query_str)\n",
        "print(str(response))"
      ]
    }
  ],
  "metadata": {
    "accelerator": "GPU",
    "colab": {
      "gpuType": "V100",
      "machine_shape": "hm",
      "provenance": []
    },
    "kernelspec": {
      "display_name": "Python 3 (ipykernel)",
      "language": "python",
      "name": "python3"
    },
    "language_info": {
      "codemirror_mode": {
        "name": "ipython",
        "version": 3
      },
      "file_extension": ".py",
      "mimetype": "text/x-python",
      "name": "python",
      "nbconvert_exporter": "python",
      "pygments_lexer": "ipython3"
    },
    "widgets": {
      "application/vnd.jupyter.widget-state+json": {
        "033ee9b2f03e485f96fd079d97bb2126": {
          "model_module": "@jupyter-widgets/base",
          "model_module_version": "1.2.0",
          "model_name": "LayoutModel",
          "state": {
            "_model_module": "@jupyter-widgets/base",
            "_model_module_version": "1.2.0",
            "_model_name": "LayoutModel",
            "_view_count": null,
            "_view_module": "@jupyter-widgets/base",
            "_view_module_version": "1.2.0",
            "_view_name": "LayoutView",
            "align_content": null,
            "align_items": null,
            "align_self": null,
            "border": null,
            "bottom": null,
            "display": null,
            "flex": null,
            "flex_flow": null,
            "grid_area": null,
            "grid_auto_columns": null,
            "grid_auto_flow": null,
            "grid_auto_rows": null,
            "grid_column": null,
            "grid_gap": null,
            "grid_row": null,
            "grid_template_areas": null,
            "grid_template_columns": null,
            "grid_template_rows": null,
            "height": null,
            "justify_content": null,
            "justify_items": null,
            "left": null,
            "margin": null,
            "max_height": null,
            "max_width": null,
            "min_height": null,
            "min_width": null,
            "object_fit": null,
            "object_position": null,
            "order": null,
            "overflow": null,
            "overflow_x": null,
            "overflow_y": null,
            "padding": null,
            "right": null,
            "top": null,
            "visibility": null,
            "width": null
          }
        },
        "25137b21c0a44b4e88d453d03eea1a37": {
          "model_module": "@jupyter-widgets/controls",
          "model_module_version": "1.5.0",
          "model_name": "DescriptionStyleModel",
          "state": {
            "_model_module": "@jupyter-widgets/controls",
            "_model_module_version": "1.5.0",
            "_model_name": "DescriptionStyleModel",
            "_view_count": null,
            "_view_module": "@jupyter-widgets/base",
            "_view_module_version": "1.2.0",
            "_view_name": "StyleView",
            "description_width": ""
          }
        },
        "2a2be67fccfc478691a26a3c1c6fa87d": {
          "model_module": "@jupyter-widgets/base",
          "model_module_version": "1.2.0",
          "model_name": "LayoutModel",
          "state": {
            "_model_module": "@jupyter-widgets/base",
            "_model_module_version": "1.2.0",
            "_model_name": "LayoutModel",
            "_view_count": null,
            "_view_module": "@jupyter-widgets/base",
            "_view_module_version": "1.2.0",
            "_view_name": "LayoutView",
            "align_content": null,
            "align_items": null,
            "align_self": null,
            "border": null,
            "bottom": null,
            "display": null,
            "flex": null,
            "flex_flow": null,
            "grid_area": null,
            "grid_auto_columns": null,
            "grid_auto_flow": null,
            "grid_auto_rows": null,
            "grid_column": null,
            "grid_gap": null,
            "grid_row": null,
            "grid_template_areas": null,
            "grid_template_columns": null,
            "grid_template_rows": null,
            "height": null,
            "justify_content": null,
            "justify_items": null,
            "left": null,
            "margin": null,
            "max_height": null,
            "max_width": null,
            "min_height": null,
            "min_width": null,
            "object_fit": null,
            "object_position": null,
            "order": null,
            "overflow": null,
            "overflow_x": null,
            "overflow_y": null,
            "padding": null,
            "right": null,
            "top": null,
            "visibility": null,
            "width": null
          }
        },
        "315ef52c3205421b9b7b11b61731547f": {
          "model_module": "@jupyter-widgets/controls",
          "model_module_version": "1.5.0",
          "model_name": "ProgressStyleModel",
          "state": {
            "_model_module": "@jupyter-widgets/controls",
            "_model_module_version": "1.5.0",
            "_model_name": "ProgressStyleModel",
            "_view_count": null,
            "_view_module": "@jupyter-widgets/base",
            "_view_module_version": "1.2.0",
            "_view_name": "StyleView",
            "bar_color": null,
            "description_width": ""
          }
        },
        "57f58855b3244325963cd7c9d7c0aa6c": {
          "model_module": "@jupyter-widgets/controls",
          "model_module_version": "1.5.0",
          "model_name": "HBoxModel",
          "state": {
            "_dom_classes": [],
            "_model_module": "@jupyter-widgets/controls",
            "_model_module_version": "1.5.0",
            "_model_name": "HBoxModel",
            "_view_count": null,
            "_view_module": "@jupyter-widgets/controls",
            "_view_module_version": "1.5.0",
            "_view_name": "HBoxView",
            "box_style": "",
            "children": [
              "IPY_MODEL_ad5fe1eb651f4f64a95f1f5e745b960d",
              "IPY_MODEL_bea861a65e674fa4bbb2492f3e568500",
              "IPY_MODEL_94c1b4c3e10b421da30d1dc3b93381bb"
            ],
            "layout": "IPY_MODEL_9cb19567558f4d579b902b10deaf62df"
          }
        },
        "90863f352ff543159aa27fc147ce28bd": {
          "model_module": "@jupyter-widgets/base",
          "model_module_version": "1.2.0",
          "model_name": "LayoutModel",
          "state": {
            "_model_module": "@jupyter-widgets/base",
            "_model_module_version": "1.2.0",
            "_model_name": "LayoutModel",
            "_view_count": null,
            "_view_module": "@jupyter-widgets/base",
            "_view_module_version": "1.2.0",
            "_view_name": "LayoutView",
            "align_content": null,
            "align_items": null,
            "align_self": null,
            "border": null,
            "bottom": null,
            "display": null,
            "flex": null,
            "flex_flow": null,
            "grid_area": null,
            "grid_auto_columns": null,
            "grid_auto_flow": null,
            "grid_auto_rows": null,
            "grid_column": null,
            "grid_gap": null,
            "grid_row": null,
            "grid_template_areas": null,
            "grid_template_columns": null,
            "grid_template_rows": null,
            "height": null,
            "justify_content": null,
            "justify_items": null,
            "left": null,
            "margin": null,
            "max_height": null,
            "max_width": null,
            "min_height": null,
            "min_width": null,
            "object_fit": null,
            "object_position": null,
            "order": null,
            "overflow": null,
            "overflow_x": null,
            "overflow_y": null,
            "padding": null,
            "right": null,
            "top": null,
            "visibility": null,
            "width": null
          }
        },
        "94c1b4c3e10b421da30d1dc3b93381bb": {
          "model_module": "@jupyter-widgets/controls",
          "model_module_version": "1.5.0",
          "model_name": "HTMLModel",
          "state": {
            "_dom_classes": [],
            "_model_module": "@jupyter-widgets/controls",
            "_model_module_version": "1.5.0",
            "_model_name": "HTMLModel",
            "_view_count": null,
            "_view_module": "@jupyter-widgets/controls",
            "_view_module_version": "1.5.0",
            "_view_name": "HTMLView",
            "description": "",
            "description_tooltip": null,
            "layout": "IPY_MODEL_033ee9b2f03e485f96fd079d97bb2126",
            "placeholder": "​",
            "style": "IPY_MODEL_c263cd2e5d274608848bdccb2876524c",
            "value": " 2/2 [00:01&lt;00:00,  1.25it/s]"
          }
        },
        "9cb19567558f4d579b902b10deaf62df": {
          "model_module": "@jupyter-widgets/base",
          "model_module_version": "1.2.0",
          "model_name": "LayoutModel",
          "state": {
            "_model_module": "@jupyter-widgets/base",
            "_model_module_version": "1.2.0",
            "_model_name": "LayoutModel",
            "_view_count": null,
            "_view_module": "@jupyter-widgets/base",
            "_view_module_version": "1.2.0",
            "_view_name": "LayoutView",
            "align_content": null,
            "align_items": null,
            "align_self": null,
            "border": null,
            "bottom": null,
            "display": null,
            "flex": null,
            "flex_flow": null,
            "grid_area": null,
            "grid_auto_columns": null,
            "grid_auto_flow": null,
            "grid_auto_rows": null,
            "grid_column": null,
            "grid_gap": null,
            "grid_row": null,
            "grid_template_areas": null,
            "grid_template_columns": null,
            "grid_template_rows": null,
            "height": null,
            "justify_content": null,
            "justify_items": null,
            "left": null,
            "margin": null,
            "max_height": null,
            "max_width": null,
            "min_height": null,
            "min_width": null,
            "object_fit": null,
            "object_position": null,
            "order": null,
            "overflow": null,
            "overflow_x": null,
            "overflow_y": null,
            "padding": null,
            "right": null,
            "top": null,
            "visibility": null,
            "width": null
          }
        },
        "ad5fe1eb651f4f64a95f1f5e745b960d": {
          "model_module": "@jupyter-widgets/controls",
          "model_module_version": "1.5.0",
          "model_name": "HTMLModel",
          "state": {
            "_dom_classes": [],
            "_model_module": "@jupyter-widgets/controls",
            "_model_module_version": "1.5.0",
            "_model_name": "HTMLModel",
            "_view_count": null,
            "_view_module": "@jupyter-widgets/controls",
            "_view_module_version": "1.5.0",
            "_view_name": "HTMLView",
            "description": "",
            "description_tooltip": null,
            "layout": "IPY_MODEL_90863f352ff543159aa27fc147ce28bd",
            "placeholder": "​",
            "style": "IPY_MODEL_25137b21c0a44b4e88d453d03eea1a37",
            "value": "Loading checkpoint shards: 100%"
          }
        },
        "bea861a65e674fa4bbb2492f3e568500": {
          "model_module": "@jupyter-widgets/controls",
          "model_module_version": "1.5.0",
          "model_name": "FloatProgressModel",
          "state": {
            "_dom_classes": [],
            "_model_module": "@jupyter-widgets/controls",
            "_model_module_version": "1.5.0",
            "_model_name": "FloatProgressModel",
            "_view_count": null,
            "_view_module": "@jupyter-widgets/controls",
            "_view_module_version": "1.5.0",
            "_view_name": "ProgressView",
            "bar_style": "success",
            "description": "",
            "description_tooltip": null,
            "layout": "IPY_MODEL_2a2be67fccfc478691a26a3c1c6fa87d",
            "max": 2,
            "min": 0,
            "orientation": "horizontal",
            "style": "IPY_MODEL_315ef52c3205421b9b7b11b61731547f",
            "value": 2
          }
        },
        "c263cd2e5d274608848bdccb2876524c": {
          "model_module": "@jupyter-widgets/controls",
          "model_module_version": "1.5.0",
          "model_name": "DescriptionStyleModel",
          "state": {
            "_model_module": "@jupyter-widgets/controls",
            "_model_module_version": "1.5.0",
            "_model_name": "DescriptionStyleModel",
            "_view_count": null,
            "_view_module": "@jupyter-widgets/base",
            "_view_module_version": "1.2.0",
            "_view_name": "StyleView",
            "description_width": ""
          }
        }
      }
    }
  },
  "nbformat": 4,
  "nbformat_minor": 0
}
