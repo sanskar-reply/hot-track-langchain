{
  "cells": [
    {
      "cell_type": "markdown",
      "metadata": {
        "id": "_nJplEN1GDmE"
      },
      "source": [
        "<a href=\"https://colab.research.google.com/github/run-llama/llama_index/blob/main/docs/examples/node_postprocessor/CohereRerank.ipynb\" target=\"_parent\"><img src=\"https://colab.research.google.com/assets/colab-badge.svg\" alt=\"Open In Colab\"/></a>"
      ]
    },
    {
      "cell_type": "markdown",
      "metadata": {
        "id": "SF6XV2sWGDmF"
      },
      "source": [
        "# Cohere Rerank"
      ]
    },
    {
      "cell_type": "markdown",
      "metadata": {
        "id": "X14Xl4mAGDmG"
      },
      "source": [
        "If you're opening this Notebook on colab, you will probably need to install LlamaIndex 🦙."
      ]
    },
    {
      "cell_type": "code",
      "execution_count": null,
      "metadata": {
        "id": "l6KOexmxGDmG"
      },
      "outputs": [],
      "source": [
        "%pip install llama-index"
      ]
    },
    {
      "cell_type": "code",
      "execution_count": null,
      "metadata": {
        "id": "ybukSqTvGDmH",
        "outputId": "d7b41238-aef3-49d2-946b-9efd02749c0b"
      },
      "outputs": [],
      "source": [
        "from llama_index import (\n",
        "    VectorStoreIndex,\n",
        "    SimpleDirectoryReader,\n",
        "    pprint_response,\n",
        ")"
      ]
    },
    {
      "cell_type": "markdown",
      "metadata": {
        "id": "DP2XN1R6GDmI"
      },
      "source": [
        "Download Data"
      ]
    },
    {
      "cell_type": "code",
      "execution_count": null,
      "metadata": {
        "id": "kK-890ycGDmI"
      },
      "outputs": [],
      "source": [
        "%mkdir -p 'data/paul_graham/'\n",
        "%wget 'https://raw.githubusercontent.com/run-llama/llama_index/main/docs/examples/data/paul_graham/paul_graham_essay.txt' -O 'data/paul_graham/paul_graham_essay.txt'"
      ]
    },
    {
      "cell_type": "code",
      "execution_count": null,
      "metadata": {
        "id": "h-zwMAdiGDmI"
      },
      "outputs": [],
      "source": [
        "# load documents\n",
        "documents = SimpleDirectoryReader(\"./data/paul_graham/\").load_data()\n",
        "\n",
        "# build index\n",
        "index = VectorStoreIndex.from_documents(documents=documents)"
      ]
    },
    {
      "cell_type": "markdown",
      "metadata": {
        "id": "BWWBa4M4GDmI"
      },
      "source": [
        "#### Retrieve top 10 most relevant nodes, then filter with Cohere Rerank"
      ]
    },
    {
      "cell_type": "code",
      "execution_count": null,
      "metadata": {
        "id": "LAtIQTXCGDmI"
      },
      "outputs": [],
      "source": [
        "import os\n",
        "from llama_index.postprocessor.cohere_rerank import CohereRerank\n",
        "\n",
        "\n",
        "api_key = os.environ[\"COHERE_API_KEY\"]\n",
        "cohere_rerank = CohereRerank(api_key=api_key, top_n=2)"
      ]
    },
    {
      "cell_type": "code",
      "execution_count": null,
      "metadata": {
        "id": "hXlatNOOGDmJ"
      },
      "outputs": [],
      "source": [
        "query_engine = index.as_query_engine(\n",
        "    similarity_top_k=10,\n",
        "    node_postprocessors=[cohere_rerank],\n",
        ")\n",
        "response = query_engine.query(\n",
        "    \"What did Sam Altman do in this essay?\",\n",
        ")"
      ]
    },
    {
      "cell_type": "code",
      "execution_count": null,
      "metadata": {
        "id": "GAKfnw4FGDmJ",
        "outputId": "d6d5366d-3899-4238-9f5b-296a19524e80"
      },
      "outputs": [],
      "source": [
        "pprint_response(response)"
      ]
    },
    {
      "cell_type": "markdown",
      "metadata": {
        "id": "P8NJ2yYGGDmJ"
      },
      "source": [
        "### Directly retrieve top 2 most similar nodes"
      ]
    },
    {
      "cell_type": "code",
      "execution_count": null,
      "metadata": {
        "id": "3rL_7SkZGDmJ"
      },
      "outputs": [],
      "source": [
        "query_engine = index.as_query_engine(\n",
        "    similarity_top_k=2,\n",
        ")\n",
        "response = query_engine.query(\n",
        "    \"What did Sam Altman do in this essay?\",\n",
        ")"
      ]
    },
    {
      "cell_type": "markdown",
      "metadata": {
        "id": "oCzpLa9EGDmK"
      },
      "source": [
        "Retrieved context is irrelevant and response is hallucinated."
      ]
    },
    {
      "cell_type": "code",
      "execution_count": null,
      "metadata": {
        "id": "CPtTk1QNGDmK",
        "outputId": "57b894db-971c-45e6-ed6a-deb40a45fac8"
      },
      "outputs": [],
      "source": [
        "pprint_response(response)"
      ]
    }
  ],
  "metadata": {
    "colab": {
      "provenance": []
    },
    "kernelspec": {
      "display_name": "Python 3 (ipykernel)",
      "language": "python",
      "name": "python3"
    },
    "language_info": {
      "codemirror_mode": {
        "name": "ipython",
        "version": 3
      },
      "file_extension": ".py",
      "mimetype": "text/x-python",
      "name": "python",
      "nbconvert_exporter": "python",
      "pygments_lexer": "ipython3"
    }
  },
  "nbformat": 4,
  "nbformat_minor": 0
}
