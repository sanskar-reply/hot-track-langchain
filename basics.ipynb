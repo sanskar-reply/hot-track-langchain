{
 "cells": [
  {
   "cell_type": "markdown",
   "metadata": {},
   "source": [
    "## Basic Query with the LangChain Wrapper"
   ]
  },
  {
   "cell_type": "code",
   "execution_count": 15,
   "metadata": {},
   "outputs": [
    {
     "name": "stderr",
     "output_type": "stream",
     "text": [
      "/Users/sanskar/git/work/hot-track-langchain/venv/lib/python3.10/site-packages/langchain_community/llms/openai.py:249: UserWarning: You are trying to use a chat model. This way of initializing it is no longer supported. Instead, please use: `from langchain_community.chat_models import ChatOpenAI`\n",
      "  warnings.warn(\n",
      "/Users/sanskar/git/work/hot-track-langchain/venv/lib/python3.10/site-packages/langchain_community/llms/openai.py:1061: UserWarning: You are trying to use a chat model. This way of initializing it is no longer supported. Instead, please use: `from langchain_community.chat_models import ChatOpenAI`\n",
      "  warnings.warn(\n"
     ]
    },
    {
     "ename": "APIRemovedInV1",
     "evalue": "\n\nYou tried to access openai.ChatCompletion, but this is no longer supported in openai>=1.0.0 - see the README at https://github.com/openai/openai-python for the API.\n\nYou can run `openai migrate` to automatically upgrade your codebase to use the 1.0.0 interface. \n\nAlternatively, you can pin your installation to the old version, e.g. `pip install openai==0.28`\n\nA detailed migration guide is available here: https://github.com/openai/openai-python/discussions/742\n",
     "output_type": "error",
     "traceback": [
      "\u001b[0;31m---------------------------------------------------------------------------\u001b[0m",
      "\u001b[0;31mAPIRemovedInV1\u001b[0m                            Traceback (most recent call last)",
      "Cell \u001b[0;32mIn[15], line 3\u001b[0m\n\u001b[1;32m      1\u001b[0m \u001b[38;5;28;01mfrom\u001b[39;00m \u001b[38;5;21;01mlangchain\u001b[39;00m\u001b[38;5;21;01m.\u001b[39;00m\u001b[38;5;21;01mllms\u001b[39;00m \u001b[38;5;28;01mimport\u001b[39;00m OpenAI\n\u001b[1;32m      2\u001b[0m llm \u001b[38;5;241m=\u001b[39m OpenAI(model_name\u001b[38;5;241m=\u001b[39m\u001b[38;5;124m\"\u001b[39m\u001b[38;5;124mgpt-4\u001b[39m\u001b[38;5;124m\"\u001b[39m)\n\u001b[0;32m----> 3\u001b[0m \u001b[43mllm\u001b[49m\u001b[43m(\u001b[49m\u001b[38;5;124;43m\"\u001b[39;49m\u001b[38;5;124;43mexplain large language models in one sentence\u001b[39;49m\u001b[38;5;124;43m\"\u001b[39;49m\u001b[43m)\u001b[49m\n",
      "File \u001b[0;32m~/git/work/hot-track-langchain/venv/lib/python3.10/site-packages/langchain_core/_api/deprecation.py:145\u001b[0m, in \u001b[0;36mdeprecated.<locals>.deprecate.<locals>.warning_emitting_wrapper\u001b[0;34m(*args, **kwargs)\u001b[0m\n\u001b[1;32m    143\u001b[0m     warned \u001b[38;5;241m=\u001b[39m \u001b[38;5;28;01mTrue\u001b[39;00m\n\u001b[1;32m    144\u001b[0m     emit_warning()\n\u001b[0;32m--> 145\u001b[0m \u001b[38;5;28;01mreturn\u001b[39;00m \u001b[43mwrapped\u001b[49m\u001b[43m(\u001b[49m\u001b[38;5;241;43m*\u001b[39;49m\u001b[43margs\u001b[49m\u001b[43m,\u001b[49m\u001b[43m \u001b[49m\u001b[38;5;241;43m*\u001b[39;49m\u001b[38;5;241;43m*\u001b[39;49m\u001b[43mkwargs\u001b[49m\u001b[43m)\u001b[49m\n",
      "File \u001b[0;32m~/git/work/hot-track-langchain/venv/lib/python3.10/site-packages/langchain_core/language_models/llms.py:948\u001b[0m, in \u001b[0;36mBaseLLM.__call__\u001b[0;34m(self, prompt, stop, callbacks, tags, metadata, **kwargs)\u001b[0m\n\u001b[1;32m    941\u001b[0m \u001b[38;5;28;01mif\u001b[39;00m \u001b[38;5;129;01mnot\u001b[39;00m \u001b[38;5;28misinstance\u001b[39m(prompt, \u001b[38;5;28mstr\u001b[39m):\n\u001b[1;32m    942\u001b[0m     \u001b[38;5;28;01mraise\u001b[39;00m \u001b[38;5;167;01mValueError\u001b[39;00m(\n\u001b[1;32m    943\u001b[0m         \u001b[38;5;124m\"\u001b[39m\u001b[38;5;124mArgument `prompt` is expected to be a string. Instead found \u001b[39m\u001b[38;5;124m\"\u001b[39m\n\u001b[1;32m    944\u001b[0m         \u001b[38;5;124mf\u001b[39m\u001b[38;5;124m\"\u001b[39m\u001b[38;5;132;01m{\u001b[39;00m\u001b[38;5;28mtype\u001b[39m(prompt)\u001b[38;5;132;01m}\u001b[39;00m\u001b[38;5;124m. If you want to run the LLM on multiple prompts, use \u001b[39m\u001b[38;5;124m\"\u001b[39m\n\u001b[1;32m    945\u001b[0m         \u001b[38;5;124m\"\u001b[39m\u001b[38;5;124m`generate` instead.\u001b[39m\u001b[38;5;124m\"\u001b[39m\n\u001b[1;32m    946\u001b[0m     )\n\u001b[1;32m    947\u001b[0m \u001b[38;5;28;01mreturn\u001b[39;00m (\n\u001b[0;32m--> 948\u001b[0m     \u001b[38;5;28;43mself\u001b[39;49m\u001b[38;5;241;43m.\u001b[39;49m\u001b[43mgenerate\u001b[49m\u001b[43m(\u001b[49m\n\u001b[1;32m    949\u001b[0m \u001b[43m        \u001b[49m\u001b[43m[\u001b[49m\u001b[43mprompt\u001b[49m\u001b[43m]\u001b[49m\u001b[43m,\u001b[49m\n\u001b[1;32m    950\u001b[0m \u001b[43m        \u001b[49m\u001b[43mstop\u001b[49m\u001b[38;5;241;43m=\u001b[39;49m\u001b[43mstop\u001b[49m\u001b[43m,\u001b[49m\n\u001b[1;32m    951\u001b[0m \u001b[43m        \u001b[49m\u001b[43mcallbacks\u001b[49m\u001b[38;5;241;43m=\u001b[39;49m\u001b[43mcallbacks\u001b[49m\u001b[43m,\u001b[49m\n\u001b[1;32m    952\u001b[0m \u001b[43m        \u001b[49m\u001b[43mtags\u001b[49m\u001b[38;5;241;43m=\u001b[39;49m\u001b[43mtags\u001b[49m\u001b[43m,\u001b[49m\n\u001b[1;32m    953\u001b[0m \u001b[43m        \u001b[49m\u001b[43mmetadata\u001b[49m\u001b[38;5;241;43m=\u001b[39;49m\u001b[43mmetadata\u001b[49m\u001b[43m,\u001b[49m\n\u001b[1;32m    954\u001b[0m \u001b[43m        \u001b[49m\u001b[38;5;241;43m*\u001b[39;49m\u001b[38;5;241;43m*\u001b[39;49m\u001b[43mkwargs\u001b[49m\u001b[43m,\u001b[49m\n\u001b[1;32m    955\u001b[0m \u001b[43m    \u001b[49m\u001b[43m)\u001b[49m\n\u001b[1;32m    956\u001b[0m     \u001b[38;5;241m.\u001b[39mgenerations[\u001b[38;5;241m0\u001b[39m][\u001b[38;5;241m0\u001b[39m]\n\u001b[1;32m    957\u001b[0m     \u001b[38;5;241m.\u001b[39mtext\n\u001b[1;32m    958\u001b[0m )\n",
      "File \u001b[0;32m~/git/work/hot-track-langchain/venv/lib/python3.10/site-packages/langchain_core/language_models/llms.py:698\u001b[0m, in \u001b[0;36mBaseLLM.generate\u001b[0;34m(self, prompts, stop, callbacks, tags, metadata, run_name, **kwargs)\u001b[0m\n\u001b[1;32m    682\u001b[0m         \u001b[38;5;28;01mraise\u001b[39;00m \u001b[38;5;167;01mValueError\u001b[39;00m(\n\u001b[1;32m    683\u001b[0m             \u001b[38;5;124m\"\u001b[39m\u001b[38;5;124mAsked to cache, but no cache found at `langchain.cache`.\u001b[39m\u001b[38;5;124m\"\u001b[39m\n\u001b[1;32m    684\u001b[0m         )\n\u001b[1;32m    685\u001b[0m     run_managers \u001b[38;5;241m=\u001b[39m [\n\u001b[1;32m    686\u001b[0m         callback_manager\u001b[38;5;241m.\u001b[39mon_llm_start(\n\u001b[1;32m    687\u001b[0m             dumpd(\u001b[38;5;28mself\u001b[39m),\n\u001b[0;32m   (...)\u001b[0m\n\u001b[1;32m    696\u001b[0m         )\n\u001b[1;32m    697\u001b[0m     ]\n\u001b[0;32m--> 698\u001b[0m     output \u001b[38;5;241m=\u001b[39m \u001b[38;5;28;43mself\u001b[39;49m\u001b[38;5;241;43m.\u001b[39;49m\u001b[43m_generate_helper\u001b[49m\u001b[43m(\u001b[49m\n\u001b[1;32m    699\u001b[0m \u001b[43m        \u001b[49m\u001b[43mprompts\u001b[49m\u001b[43m,\u001b[49m\u001b[43m \u001b[49m\u001b[43mstop\u001b[49m\u001b[43m,\u001b[49m\u001b[43m \u001b[49m\u001b[43mrun_managers\u001b[49m\u001b[43m,\u001b[49m\u001b[43m \u001b[49m\u001b[38;5;28;43mbool\u001b[39;49m\u001b[43m(\u001b[49m\u001b[43mnew_arg_supported\u001b[49m\u001b[43m)\u001b[49m\u001b[43m,\u001b[49m\u001b[43m \u001b[49m\u001b[38;5;241;43m*\u001b[39;49m\u001b[38;5;241;43m*\u001b[39;49m\u001b[43mkwargs\u001b[49m\n\u001b[1;32m    700\u001b[0m \u001b[43m    \u001b[49m\u001b[43m)\u001b[49m\n\u001b[1;32m    701\u001b[0m     \u001b[38;5;28;01mreturn\u001b[39;00m output\n\u001b[1;32m    702\u001b[0m \u001b[38;5;28;01mif\u001b[39;00m \u001b[38;5;28mlen\u001b[39m(missing_prompts) \u001b[38;5;241m>\u001b[39m \u001b[38;5;241m0\u001b[39m:\n",
      "File \u001b[0;32m~/git/work/hot-track-langchain/venv/lib/python3.10/site-packages/langchain_core/language_models/llms.py:562\u001b[0m, in \u001b[0;36mBaseLLM._generate_helper\u001b[0;34m(self, prompts, stop, run_managers, new_arg_supported, **kwargs)\u001b[0m\n\u001b[1;32m    560\u001b[0m     \u001b[38;5;28;01mfor\u001b[39;00m run_manager \u001b[38;5;129;01min\u001b[39;00m run_managers:\n\u001b[1;32m    561\u001b[0m         run_manager\u001b[38;5;241m.\u001b[39mon_llm_error(e, response\u001b[38;5;241m=\u001b[39mLLMResult(generations\u001b[38;5;241m=\u001b[39m[]))\n\u001b[0;32m--> 562\u001b[0m     \u001b[38;5;28;01mraise\u001b[39;00m e\n\u001b[1;32m    563\u001b[0m flattened_outputs \u001b[38;5;241m=\u001b[39m output\u001b[38;5;241m.\u001b[39mflatten()\n\u001b[1;32m    564\u001b[0m \u001b[38;5;28;01mfor\u001b[39;00m manager, flattened_output \u001b[38;5;129;01min\u001b[39;00m \u001b[38;5;28mzip\u001b[39m(run_managers, flattened_outputs):\n",
      "File \u001b[0;32m~/git/work/hot-track-langchain/venv/lib/python3.10/site-packages/langchain_core/language_models/llms.py:549\u001b[0m, in \u001b[0;36mBaseLLM._generate_helper\u001b[0;34m(self, prompts, stop, run_managers, new_arg_supported, **kwargs)\u001b[0m\n\u001b[1;32m    539\u001b[0m \u001b[38;5;28;01mdef\u001b[39;00m \u001b[38;5;21m_generate_helper\u001b[39m(\n\u001b[1;32m    540\u001b[0m     \u001b[38;5;28mself\u001b[39m,\n\u001b[1;32m    541\u001b[0m     prompts: List[\u001b[38;5;28mstr\u001b[39m],\n\u001b[0;32m   (...)\u001b[0m\n\u001b[1;32m    545\u001b[0m     \u001b[38;5;241m*\u001b[39m\u001b[38;5;241m*\u001b[39mkwargs: Any,\n\u001b[1;32m    546\u001b[0m ) \u001b[38;5;241m-\u001b[39m\u001b[38;5;241m>\u001b[39m LLMResult:\n\u001b[1;32m    547\u001b[0m     \u001b[38;5;28;01mtry\u001b[39;00m:\n\u001b[1;32m    548\u001b[0m         output \u001b[38;5;241m=\u001b[39m (\n\u001b[0;32m--> 549\u001b[0m             \u001b[38;5;28;43mself\u001b[39;49m\u001b[38;5;241;43m.\u001b[39;49m\u001b[43m_generate\u001b[49m\u001b[43m(\u001b[49m\n\u001b[1;32m    550\u001b[0m \u001b[43m                \u001b[49m\u001b[43mprompts\u001b[49m\u001b[43m,\u001b[49m\n\u001b[1;32m    551\u001b[0m \u001b[43m                \u001b[49m\u001b[43mstop\u001b[49m\u001b[38;5;241;43m=\u001b[39;49m\u001b[43mstop\u001b[49m\u001b[43m,\u001b[49m\n\u001b[1;32m    552\u001b[0m \u001b[43m                \u001b[49m\u001b[38;5;66;43;03m# TODO: support multiple run managers\u001b[39;49;00m\n\u001b[1;32m    553\u001b[0m \u001b[43m                \u001b[49m\u001b[43mrun_manager\u001b[49m\u001b[38;5;241;43m=\u001b[39;49m\u001b[43mrun_managers\u001b[49m\u001b[43m[\u001b[49m\u001b[38;5;241;43m0\u001b[39;49m\u001b[43m]\u001b[49m\u001b[43m \u001b[49m\u001b[38;5;28;43;01mif\u001b[39;49;00m\u001b[43m \u001b[49m\u001b[43mrun_managers\u001b[49m\u001b[43m \u001b[49m\u001b[38;5;28;43;01melse\u001b[39;49;00m\u001b[43m \u001b[49m\u001b[38;5;28;43;01mNone\u001b[39;49;00m\u001b[43m,\u001b[49m\n\u001b[1;32m    554\u001b[0m \u001b[43m                \u001b[49m\u001b[38;5;241;43m*\u001b[39;49m\u001b[38;5;241;43m*\u001b[39;49m\u001b[43mkwargs\u001b[49m\u001b[43m,\u001b[49m\n\u001b[1;32m    555\u001b[0m \u001b[43m            \u001b[49m\u001b[43m)\u001b[49m\n\u001b[1;32m    556\u001b[0m             \u001b[38;5;28;01mif\u001b[39;00m new_arg_supported\n\u001b[1;32m    557\u001b[0m             \u001b[38;5;28;01melse\u001b[39;00m \u001b[38;5;28mself\u001b[39m\u001b[38;5;241m.\u001b[39m_generate(prompts, stop\u001b[38;5;241m=\u001b[39mstop)\n\u001b[1;32m    558\u001b[0m         )\n\u001b[1;32m    559\u001b[0m     \u001b[38;5;28;01mexcept\u001b[39;00m \u001b[38;5;167;01mBaseException\u001b[39;00m \u001b[38;5;28;01mas\u001b[39;00m e:\n\u001b[1;32m    560\u001b[0m         \u001b[38;5;28;01mfor\u001b[39;00m run_manager \u001b[38;5;129;01min\u001b[39;00m run_managers:\n",
      "File \u001b[0;32m~/git/work/hot-track-langchain/venv/lib/python3.10/site-packages/langchain_community/llms/openai.py:1150\u001b[0m, in \u001b[0;36mOpenAIChat._generate\u001b[0;34m(self, prompts, stop, run_manager, **kwargs)\u001b[0m\n\u001b[1;32m   1148\u001b[0m messages, params \u001b[38;5;241m=\u001b[39m \u001b[38;5;28mself\u001b[39m\u001b[38;5;241m.\u001b[39m_get_chat_params(prompts, stop)\n\u001b[1;32m   1149\u001b[0m params \u001b[38;5;241m=\u001b[39m {\u001b[38;5;241m*\u001b[39m\u001b[38;5;241m*\u001b[39mparams, \u001b[38;5;241m*\u001b[39m\u001b[38;5;241m*\u001b[39mkwargs}\n\u001b[0;32m-> 1150\u001b[0m full_response \u001b[38;5;241m=\u001b[39m \u001b[43mcompletion_with_retry\u001b[49m\u001b[43m(\u001b[49m\n\u001b[1;32m   1151\u001b[0m \u001b[43m    \u001b[49m\u001b[38;5;28;43mself\u001b[39;49m\u001b[43m,\u001b[49m\u001b[43m \u001b[49m\u001b[43mmessages\u001b[49m\u001b[38;5;241;43m=\u001b[39;49m\u001b[43mmessages\u001b[49m\u001b[43m,\u001b[49m\u001b[43m \u001b[49m\u001b[43mrun_manager\u001b[49m\u001b[38;5;241;43m=\u001b[39;49m\u001b[43mrun_manager\u001b[49m\u001b[43m,\u001b[49m\u001b[43m \u001b[49m\u001b[38;5;241;43m*\u001b[39;49m\u001b[38;5;241;43m*\u001b[39;49m\u001b[43mparams\u001b[49m\n\u001b[1;32m   1152\u001b[0m \u001b[43m\u001b[49m\u001b[43m)\u001b[49m\n\u001b[1;32m   1153\u001b[0m \u001b[38;5;28;01mif\u001b[39;00m \u001b[38;5;129;01mnot\u001b[39;00m \u001b[38;5;28misinstance\u001b[39m(full_response, \u001b[38;5;28mdict\u001b[39m):\n\u001b[1;32m   1154\u001b[0m     full_response \u001b[38;5;241m=\u001b[39m full_response\u001b[38;5;241m.\u001b[39mdict()\n",
      "File \u001b[0;32m~/git/work/hot-track-langchain/venv/lib/python3.10/site-packages/langchain_community/llms/openai.py:115\u001b[0m, in \u001b[0;36mcompletion_with_retry\u001b[0;34m(llm, run_manager, **kwargs)\u001b[0m\n\u001b[1;32m    113\u001b[0m \u001b[38;5;250m\u001b[39m\u001b[38;5;124;03m\"\"\"Use tenacity to retry the completion call.\"\"\"\u001b[39;00m\n\u001b[1;32m    114\u001b[0m \u001b[38;5;28;01mif\u001b[39;00m is_openai_v1():\n\u001b[0;32m--> 115\u001b[0m     \u001b[38;5;28;01mreturn\u001b[39;00m \u001b[43mllm\u001b[49m\u001b[38;5;241;43m.\u001b[39;49m\u001b[43mclient\u001b[49m\u001b[38;5;241;43m.\u001b[39;49m\u001b[43mcreate\u001b[49m\u001b[43m(\u001b[49m\u001b[38;5;241;43m*\u001b[39;49m\u001b[38;5;241;43m*\u001b[39;49m\u001b[43mkwargs\u001b[49m\u001b[43m)\u001b[49m\n\u001b[1;32m    117\u001b[0m retry_decorator \u001b[38;5;241m=\u001b[39m _create_retry_decorator(llm, run_manager\u001b[38;5;241m=\u001b[39mrun_manager)\n\u001b[1;32m    119\u001b[0m \u001b[38;5;129m@retry_decorator\u001b[39m\n\u001b[1;32m    120\u001b[0m \u001b[38;5;28;01mdef\u001b[39;00m \u001b[38;5;21m_completion_with_retry\u001b[39m(\u001b[38;5;241m*\u001b[39m\u001b[38;5;241m*\u001b[39mkwargs: Any) \u001b[38;5;241m-\u001b[39m\u001b[38;5;241m>\u001b[39m Any:\n",
      "File \u001b[0;32m~/git/work/hot-track-langchain/venv/lib/python3.10/site-packages/openai/lib/_old_api.py:39\u001b[0m, in \u001b[0;36mAPIRemovedInV1Proxy.__call__\u001b[0;34m(self, *_args, **_kwargs)\u001b[0m\n\u001b[1;32m     38\u001b[0m \u001b[38;5;28;01mdef\u001b[39;00m \u001b[38;5;21m__call__\u001b[39m(\u001b[38;5;28mself\u001b[39m, \u001b[38;5;241m*\u001b[39m_args: Any, \u001b[38;5;241m*\u001b[39m\u001b[38;5;241m*\u001b[39m_kwargs: Any) \u001b[38;5;241m-\u001b[39m\u001b[38;5;241m>\u001b[39m Any:\n\u001b[0;32m---> 39\u001b[0m     \u001b[38;5;28;01mraise\u001b[39;00m APIRemovedInV1(symbol\u001b[38;5;241m=\u001b[39m\u001b[38;5;28mself\u001b[39m\u001b[38;5;241m.\u001b[39m_symbol)\n",
      "\u001b[0;31mAPIRemovedInV1\u001b[0m: \n\nYou tried to access openai.ChatCompletion, but this is no longer supported in openai>=1.0.0 - see the README at https://github.com/openai/openai-python for the API.\n\nYou can run `openai migrate` to automatically upgrade your codebase to use the 1.0.0 interface. \n\nAlternatively, you can pin your installation to the old version, e.g. `pip install openai==0.28`\n\nA detailed migration guide is available here: https://github.com/openai/openai-python/discussions/742\n"
     ]
    }
   ],
   "source": [
    "from langchain.llms import OpenAI\n",
    "llm = OpenAI(model_name=\"gpt-4\")\n",
    "llm(\"explain large language models in one sentence\")"
   ]
  },
  {
   "cell_type": "markdown",
   "metadata": {},
   "source": [
    "## Importing and defining Schema for the chat messages"
   ]
  },
  {
   "cell_type": "code",
   "execution_count": 10,
   "metadata": {},
   "outputs": [],
   "source": [
    "# import schema for chat messages and ChatOpenAI in order to query chatmodels GPT-3.5-turbo or GPT-4\n",
    "\n",
    "from langchain.schema import (\n",
    "    AIMessage,\n",
    "    HumanMessage,\n",
    "    SystemMessage\n",
    ")\n",
    "from langchain.chat_models import ChatOpenAI"
   ]
  },
  {
   "cell_type": "code",
   "execution_count": 11,
   "metadata": {},
   "outputs": [
    {
     "ename": "AttributeError",
     "evalue": "module 'openai' has no attribute 'error'",
     "output_type": "error",
     "traceback": [
      "\u001b[0;31m---------------------------------------------------------------------------\u001b[0m",
      "\u001b[0;31mAttributeError\u001b[0m                            Traceback (most recent call last)",
      "Cell \u001b[0;32mIn[11], line 6\u001b[0m\n\u001b[1;32m      1\u001b[0m chat \u001b[38;5;241m=\u001b[39m ChatOpenAI(model_name\u001b[38;5;241m=\u001b[39m\u001b[38;5;124m\"\u001b[39m\u001b[38;5;124mgpt-4\u001b[39m\u001b[38;5;124m\"\u001b[39m,temperature\u001b[38;5;241m=\u001b[39m\u001b[38;5;241m0.3\u001b[39m)\n\u001b[1;32m      2\u001b[0m messages \u001b[38;5;241m=\u001b[39m [\n\u001b[1;32m      3\u001b[0m     SystemMessage(content\u001b[38;5;241m=\u001b[39m\u001b[38;5;124m\"\u001b[39m\u001b[38;5;124mYou are an expert data scientist\u001b[39m\u001b[38;5;124m\"\u001b[39m),\n\u001b[1;32m      4\u001b[0m     HumanMessage(content\u001b[38;5;241m=\u001b[39m\u001b[38;5;124m\"\u001b[39m\u001b[38;5;124mWrite a Python script that trains a neural network on simulated data \u001b[39m\u001b[38;5;124m\"\u001b[39m)\n\u001b[1;32m      5\u001b[0m ]\n\u001b[0;32m----> 6\u001b[0m response\u001b[38;5;241m=\u001b[39m\u001b[43mchat\u001b[49m\u001b[43m(\u001b[49m\u001b[43mmessages\u001b[49m\u001b[43m)\u001b[49m\n\u001b[1;32m      8\u001b[0m \u001b[38;5;28mprint\u001b[39m(response\u001b[38;5;241m.\u001b[39mcontent,end\u001b[38;5;241m=\u001b[39m\u001b[38;5;124m'\u001b[39m\u001b[38;5;130;01m\\n\u001b[39;00m\u001b[38;5;124m'\u001b[39m)\n",
      "File \u001b[0;32m~/git/work/hot-track-langchain/venv/lib/python3.10/site-packages/langchain_core/_api/deprecation.py:145\u001b[0m, in \u001b[0;36mdeprecated.<locals>.deprecate.<locals>.warning_emitting_wrapper\u001b[0;34m(*args, **kwargs)\u001b[0m\n\u001b[1;32m    143\u001b[0m     warned \u001b[38;5;241m=\u001b[39m \u001b[38;5;28;01mTrue\u001b[39;00m\n\u001b[1;32m    144\u001b[0m     emit_warning()\n\u001b[0;32m--> 145\u001b[0m \u001b[38;5;28;01mreturn\u001b[39;00m \u001b[43mwrapped\u001b[49m\u001b[43m(\u001b[49m\u001b[38;5;241;43m*\u001b[39;49m\u001b[43margs\u001b[49m\u001b[43m,\u001b[49m\u001b[43m \u001b[49m\u001b[38;5;241;43m*\u001b[39;49m\u001b[38;5;241;43m*\u001b[39;49m\u001b[43mkwargs\u001b[49m\u001b[43m)\u001b[49m\n",
      "File \u001b[0;32m~/git/work/hot-track-langchain/venv/lib/python3.10/site-packages/langchain_core/language_models/chat_models.py:690\u001b[0m, in \u001b[0;36mBaseChatModel.__call__\u001b[0;34m(self, messages, stop, callbacks, **kwargs)\u001b[0m\n\u001b[1;32m    682\u001b[0m \u001b[38;5;129m@deprecated\u001b[39m(\u001b[38;5;124m\"\u001b[39m\u001b[38;5;124m0.1.7\u001b[39m\u001b[38;5;124m\"\u001b[39m, alternative\u001b[38;5;241m=\u001b[39m\u001b[38;5;124m\"\u001b[39m\u001b[38;5;124minvoke\u001b[39m\u001b[38;5;124m\"\u001b[39m, removal\u001b[38;5;241m=\u001b[39m\u001b[38;5;124m\"\u001b[39m\u001b[38;5;124m0.2.0\u001b[39m\u001b[38;5;124m\"\u001b[39m)\n\u001b[1;32m    683\u001b[0m \u001b[38;5;28;01mdef\u001b[39;00m \u001b[38;5;21m__call__\u001b[39m(\n\u001b[1;32m    684\u001b[0m     \u001b[38;5;28mself\u001b[39m,\n\u001b[0;32m   (...)\u001b[0m\n\u001b[1;32m    688\u001b[0m     \u001b[38;5;241m*\u001b[39m\u001b[38;5;241m*\u001b[39mkwargs: Any,\n\u001b[1;32m    689\u001b[0m ) \u001b[38;5;241m-\u001b[39m\u001b[38;5;241m>\u001b[39m BaseMessage:\n\u001b[0;32m--> 690\u001b[0m     generation \u001b[38;5;241m=\u001b[39m \u001b[38;5;28;43mself\u001b[39;49m\u001b[38;5;241;43m.\u001b[39;49m\u001b[43mgenerate\u001b[49m\u001b[43m(\u001b[49m\n\u001b[1;32m    691\u001b[0m \u001b[43m        \u001b[49m\u001b[43m[\u001b[49m\u001b[43mmessages\u001b[49m\u001b[43m]\u001b[49m\u001b[43m,\u001b[49m\u001b[43m \u001b[49m\u001b[43mstop\u001b[49m\u001b[38;5;241;43m=\u001b[39;49m\u001b[43mstop\u001b[49m\u001b[43m,\u001b[49m\u001b[43m \u001b[49m\u001b[43mcallbacks\u001b[49m\u001b[38;5;241;43m=\u001b[39;49m\u001b[43mcallbacks\u001b[49m\u001b[43m,\u001b[49m\u001b[43m \u001b[49m\u001b[38;5;241;43m*\u001b[39;49m\u001b[38;5;241;43m*\u001b[39;49m\u001b[43mkwargs\u001b[49m\n\u001b[1;32m    692\u001b[0m \u001b[43m    \u001b[49m\u001b[43m)\u001b[49m\u001b[38;5;241m.\u001b[39mgenerations[\u001b[38;5;241m0\u001b[39m][\u001b[38;5;241m0\u001b[39m]\n\u001b[1;32m    693\u001b[0m     \u001b[38;5;28;01mif\u001b[39;00m \u001b[38;5;28misinstance\u001b[39m(generation, ChatGeneration):\n\u001b[1;32m    694\u001b[0m         \u001b[38;5;28;01mreturn\u001b[39;00m generation\u001b[38;5;241m.\u001b[39mmessage\n",
      "File \u001b[0;32m~/git/work/hot-track-langchain/venv/lib/python3.10/site-packages/langchain_core/language_models/chat_models.py:407\u001b[0m, in \u001b[0;36mBaseChatModel.generate\u001b[0;34m(self, messages, stop, callbacks, tags, metadata, run_name, **kwargs)\u001b[0m\n\u001b[1;32m    405\u001b[0m         \u001b[38;5;28;01mif\u001b[39;00m run_managers:\n\u001b[1;32m    406\u001b[0m             run_managers[i]\u001b[38;5;241m.\u001b[39mon_llm_error(e, response\u001b[38;5;241m=\u001b[39mLLMResult(generations\u001b[38;5;241m=\u001b[39m[]))\n\u001b[0;32m--> 407\u001b[0m         \u001b[38;5;28;01mraise\u001b[39;00m e\n\u001b[1;32m    408\u001b[0m flattened_outputs \u001b[38;5;241m=\u001b[39m [\n\u001b[1;32m    409\u001b[0m     LLMResult(generations\u001b[38;5;241m=\u001b[39m[res\u001b[38;5;241m.\u001b[39mgenerations], llm_output\u001b[38;5;241m=\u001b[39mres\u001b[38;5;241m.\u001b[39mllm_output)\n\u001b[1;32m    410\u001b[0m     \u001b[38;5;28;01mfor\u001b[39;00m res \u001b[38;5;129;01min\u001b[39;00m results\n\u001b[1;32m    411\u001b[0m ]\n\u001b[1;32m    412\u001b[0m llm_output \u001b[38;5;241m=\u001b[39m \u001b[38;5;28mself\u001b[39m\u001b[38;5;241m.\u001b[39m_combine_llm_outputs([res\u001b[38;5;241m.\u001b[39mllm_output \u001b[38;5;28;01mfor\u001b[39;00m res \u001b[38;5;129;01min\u001b[39;00m results])\n",
      "File \u001b[0;32m~/git/work/hot-track-langchain/venv/lib/python3.10/site-packages/langchain_core/language_models/chat_models.py:397\u001b[0m, in \u001b[0;36mBaseChatModel.generate\u001b[0;34m(self, messages, stop, callbacks, tags, metadata, run_name, **kwargs)\u001b[0m\n\u001b[1;32m    394\u001b[0m \u001b[38;5;28;01mfor\u001b[39;00m i, m \u001b[38;5;129;01min\u001b[39;00m \u001b[38;5;28menumerate\u001b[39m(messages):\n\u001b[1;32m    395\u001b[0m     \u001b[38;5;28;01mtry\u001b[39;00m:\n\u001b[1;32m    396\u001b[0m         results\u001b[38;5;241m.\u001b[39mappend(\n\u001b[0;32m--> 397\u001b[0m             \u001b[38;5;28;43mself\u001b[39;49m\u001b[38;5;241;43m.\u001b[39;49m\u001b[43m_generate_with_cache\u001b[49m\u001b[43m(\u001b[49m\n\u001b[1;32m    398\u001b[0m \u001b[43m                \u001b[49m\u001b[43mm\u001b[49m\u001b[43m,\u001b[49m\n\u001b[1;32m    399\u001b[0m \u001b[43m                \u001b[49m\u001b[43mstop\u001b[49m\u001b[38;5;241;43m=\u001b[39;49m\u001b[43mstop\u001b[49m\u001b[43m,\u001b[49m\n\u001b[1;32m    400\u001b[0m \u001b[43m                \u001b[49m\u001b[43mrun_manager\u001b[49m\u001b[38;5;241;43m=\u001b[39;49m\u001b[43mrun_managers\u001b[49m\u001b[43m[\u001b[49m\u001b[43mi\u001b[49m\u001b[43m]\u001b[49m\u001b[43m \u001b[49m\u001b[38;5;28;43;01mif\u001b[39;49;00m\u001b[43m \u001b[49m\u001b[43mrun_managers\u001b[49m\u001b[43m \u001b[49m\u001b[38;5;28;43;01melse\u001b[39;49;00m\u001b[43m \u001b[49m\u001b[38;5;28;43;01mNone\u001b[39;49;00m\u001b[43m,\u001b[49m\n\u001b[1;32m    401\u001b[0m \u001b[43m                \u001b[49m\u001b[38;5;241;43m*\u001b[39;49m\u001b[38;5;241;43m*\u001b[39;49m\u001b[43mkwargs\u001b[49m\u001b[43m,\u001b[49m\n\u001b[1;32m    402\u001b[0m \u001b[43m            \u001b[49m\u001b[43m)\u001b[49m\n\u001b[1;32m    403\u001b[0m         )\n\u001b[1;32m    404\u001b[0m     \u001b[38;5;28;01mexcept\u001b[39;00m \u001b[38;5;167;01mBaseException\u001b[39;00m \u001b[38;5;28;01mas\u001b[39;00m e:\n\u001b[1;32m    405\u001b[0m         \u001b[38;5;28;01mif\u001b[39;00m run_managers:\n",
      "File \u001b[0;32m~/git/work/hot-track-langchain/venv/lib/python3.10/site-packages/langchain_core/language_models/chat_models.py:576\u001b[0m, in \u001b[0;36mBaseChatModel._generate_with_cache\u001b[0;34m(self, messages, stop, run_manager, **kwargs)\u001b[0m\n\u001b[1;32m    572\u001b[0m     \u001b[38;5;28;01mraise\u001b[39;00m \u001b[38;5;167;01mValueError\u001b[39;00m(\n\u001b[1;32m    573\u001b[0m         \u001b[38;5;124m\"\u001b[39m\u001b[38;5;124mAsked to cache, but no cache found at `langchain.cache`.\u001b[39m\u001b[38;5;124m\"\u001b[39m\n\u001b[1;32m    574\u001b[0m     )\n\u001b[1;32m    575\u001b[0m \u001b[38;5;28;01mif\u001b[39;00m new_arg_supported:\n\u001b[0;32m--> 576\u001b[0m     \u001b[38;5;28;01mreturn\u001b[39;00m \u001b[38;5;28;43mself\u001b[39;49m\u001b[38;5;241;43m.\u001b[39;49m\u001b[43m_generate\u001b[49m\u001b[43m(\u001b[49m\n\u001b[1;32m    577\u001b[0m \u001b[43m        \u001b[49m\u001b[43mmessages\u001b[49m\u001b[43m,\u001b[49m\u001b[43m \u001b[49m\u001b[43mstop\u001b[49m\u001b[38;5;241;43m=\u001b[39;49m\u001b[43mstop\u001b[49m\u001b[43m,\u001b[49m\u001b[43m \u001b[49m\u001b[43mrun_manager\u001b[49m\u001b[38;5;241;43m=\u001b[39;49m\u001b[43mrun_manager\u001b[49m\u001b[43m,\u001b[49m\u001b[43m \u001b[49m\u001b[38;5;241;43m*\u001b[39;49m\u001b[38;5;241;43m*\u001b[39;49m\u001b[43mkwargs\u001b[49m\n\u001b[1;32m    578\u001b[0m \u001b[43m    \u001b[49m\u001b[43m)\u001b[49m\n\u001b[1;32m    579\u001b[0m \u001b[38;5;28;01melse\u001b[39;00m:\n\u001b[1;32m    580\u001b[0m     \u001b[38;5;28;01mreturn\u001b[39;00m \u001b[38;5;28mself\u001b[39m\u001b[38;5;241m.\u001b[39m_generate(messages, stop\u001b[38;5;241m=\u001b[39mstop, \u001b[38;5;241m*\u001b[39m\u001b[38;5;241m*\u001b[39mkwargs)\n",
      "File \u001b[0;32m~/git/work/hot-track-langchain/venv/lib/python3.10/site-packages/langchain_community/chat_models/openai.py:437\u001b[0m, in \u001b[0;36mChatOpenAI._generate\u001b[0;34m(self, messages, stop, run_manager, stream, **kwargs)\u001b[0m\n\u001b[1;32m    431\u001b[0m message_dicts, params \u001b[38;5;241m=\u001b[39m \u001b[38;5;28mself\u001b[39m\u001b[38;5;241m.\u001b[39m_create_message_dicts(messages, stop)\n\u001b[1;32m    432\u001b[0m params \u001b[38;5;241m=\u001b[39m {\n\u001b[1;32m    433\u001b[0m     \u001b[38;5;241m*\u001b[39m\u001b[38;5;241m*\u001b[39mparams,\n\u001b[1;32m    434\u001b[0m     \u001b[38;5;241m*\u001b[39m\u001b[38;5;241m*\u001b[39m({\u001b[38;5;124m\"\u001b[39m\u001b[38;5;124mstream\u001b[39m\u001b[38;5;124m\"\u001b[39m: stream} \u001b[38;5;28;01mif\u001b[39;00m stream \u001b[38;5;129;01mis\u001b[39;00m \u001b[38;5;129;01mnot\u001b[39;00m \u001b[38;5;28;01mNone\u001b[39;00m \u001b[38;5;28;01melse\u001b[39;00m {}),\n\u001b[1;32m    435\u001b[0m     \u001b[38;5;241m*\u001b[39m\u001b[38;5;241m*\u001b[39mkwargs,\n\u001b[1;32m    436\u001b[0m }\n\u001b[0;32m--> 437\u001b[0m response \u001b[38;5;241m=\u001b[39m \u001b[38;5;28;43mself\u001b[39;49m\u001b[38;5;241;43m.\u001b[39;49m\u001b[43mcompletion_with_retry\u001b[49m\u001b[43m(\u001b[49m\n\u001b[1;32m    438\u001b[0m \u001b[43m    \u001b[49m\u001b[43mmessages\u001b[49m\u001b[38;5;241;43m=\u001b[39;49m\u001b[43mmessage_dicts\u001b[49m\u001b[43m,\u001b[49m\u001b[43m \u001b[49m\u001b[43mrun_manager\u001b[49m\u001b[38;5;241;43m=\u001b[39;49m\u001b[43mrun_manager\u001b[49m\u001b[43m,\u001b[49m\u001b[43m \u001b[49m\u001b[38;5;241;43m*\u001b[39;49m\u001b[38;5;241;43m*\u001b[39;49m\u001b[43mparams\u001b[49m\n\u001b[1;32m    439\u001b[0m \u001b[43m\u001b[49m\u001b[43m)\u001b[49m\n\u001b[1;32m    440\u001b[0m \u001b[38;5;28;01mreturn\u001b[39;00m \u001b[38;5;28mself\u001b[39m\u001b[38;5;241m.\u001b[39m_create_chat_result(response)\n",
      "File \u001b[0;32m~/git/work/hot-track-langchain/venv/lib/python3.10/site-packages/langchain_community/chat_models/openai.py:356\u001b[0m, in \u001b[0;36mChatOpenAI.completion_with_retry\u001b[0;34m(self, run_manager, **kwargs)\u001b[0m\n\u001b[1;32m    353\u001b[0m \u001b[38;5;28;01mif\u001b[39;00m is_openai_v1():\n\u001b[1;32m    354\u001b[0m     \u001b[38;5;28;01mreturn\u001b[39;00m \u001b[38;5;28mself\u001b[39m\u001b[38;5;241m.\u001b[39mclient\u001b[38;5;241m.\u001b[39mcreate(\u001b[38;5;241m*\u001b[39m\u001b[38;5;241m*\u001b[39mkwargs)\n\u001b[0;32m--> 356\u001b[0m retry_decorator \u001b[38;5;241m=\u001b[39m \u001b[43m_create_retry_decorator\u001b[49m\u001b[43m(\u001b[49m\u001b[38;5;28;43mself\u001b[39;49m\u001b[43m,\u001b[49m\u001b[43m \u001b[49m\u001b[43mrun_manager\u001b[49m\u001b[38;5;241;43m=\u001b[39;49m\u001b[43mrun_manager\u001b[49m\u001b[43m)\u001b[49m\n\u001b[1;32m    358\u001b[0m \u001b[38;5;129m@retry_decorator\u001b[39m\n\u001b[1;32m    359\u001b[0m \u001b[38;5;28;01mdef\u001b[39;00m \u001b[38;5;21m_completion_with_retry\u001b[39m(\u001b[38;5;241m*\u001b[39m\u001b[38;5;241m*\u001b[39mkwargs: Any) \u001b[38;5;241m-\u001b[39m\u001b[38;5;241m>\u001b[39m Any:\n\u001b[1;32m    360\u001b[0m     \u001b[38;5;28;01mreturn\u001b[39;00m \u001b[38;5;28mself\u001b[39m\u001b[38;5;241m.\u001b[39mclient\u001b[38;5;241m.\u001b[39mcreate(\u001b[38;5;241m*\u001b[39m\u001b[38;5;241m*\u001b[39mkwargs)\n",
      "File \u001b[0;32m~/git/work/hot-track-langchain/venv/lib/python3.10/site-packages/langchain_community/chat_models/openai.py:87\u001b[0m, in \u001b[0;36m_create_retry_decorator\u001b[0;34m(llm, run_manager)\u001b[0m\n\u001b[1;32m     78\u001b[0m \u001b[38;5;28;01mdef\u001b[39;00m \u001b[38;5;21m_create_retry_decorator\u001b[39m(\n\u001b[1;32m     79\u001b[0m     llm: ChatOpenAI,\n\u001b[1;32m     80\u001b[0m     run_manager: Optional[\n\u001b[1;32m     81\u001b[0m         Union[AsyncCallbackManagerForLLMRun, CallbackManagerForLLMRun]\n\u001b[1;32m     82\u001b[0m     ] \u001b[38;5;241m=\u001b[39m \u001b[38;5;28;01mNone\u001b[39;00m,\n\u001b[1;32m     83\u001b[0m ) \u001b[38;5;241m-\u001b[39m\u001b[38;5;241m>\u001b[39m Callable[[Any], Any]:\n\u001b[1;32m     84\u001b[0m     \u001b[38;5;28;01mimport\u001b[39;00m \u001b[38;5;21;01mopenai\u001b[39;00m\n\u001b[1;32m     86\u001b[0m     errors \u001b[38;5;241m=\u001b[39m [\n\u001b[0;32m---> 87\u001b[0m         \u001b[43mopenai\u001b[49m\u001b[38;5;241;43m.\u001b[39;49m\u001b[43merror\u001b[49m\u001b[38;5;241m.\u001b[39mTimeout,\n\u001b[1;32m     88\u001b[0m         openai\u001b[38;5;241m.\u001b[39merror\u001b[38;5;241m.\u001b[39mAPIError,\n\u001b[1;32m     89\u001b[0m         openai\u001b[38;5;241m.\u001b[39merror\u001b[38;5;241m.\u001b[39mAPIConnectionError,\n\u001b[1;32m     90\u001b[0m         openai\u001b[38;5;241m.\u001b[39merror\u001b[38;5;241m.\u001b[39mRateLimitError,\n\u001b[1;32m     91\u001b[0m         openai\u001b[38;5;241m.\u001b[39merror\u001b[38;5;241m.\u001b[39mServiceUnavailableError,\n\u001b[1;32m     92\u001b[0m     ]\n\u001b[1;32m     93\u001b[0m     \u001b[38;5;28;01mreturn\u001b[39;00m create_base_retry_decorator(\n\u001b[1;32m     94\u001b[0m         error_types\u001b[38;5;241m=\u001b[39merrors, max_retries\u001b[38;5;241m=\u001b[39mllm\u001b[38;5;241m.\u001b[39mmax_retries, run_manager\u001b[38;5;241m=\u001b[39mrun_manager\n\u001b[1;32m     95\u001b[0m     )\n",
      "\u001b[0;31mAttributeError\u001b[0m: module 'openai' has no attribute 'error'"
     ]
    }
   ],
   "source": [
    "chat = ChatOpenAI(model_name=\"gpt-4\",temperature=0.3)\n",
    "messages = [\n",
    "    SystemMessage(content=\"You are an expert data scientist\"),\n",
    "    HumanMessage(content=\"Write a Python script that trains a neural network on simulated data \")\n",
    "]\n",
    "response=chat(messages)\n",
    "\n",
    "print(response.content,end='\\n')"
   ]
  },
  {
   "cell_type": "markdown",
   "metadata": {},
   "source": [
    "## Import prompt and define PromptTemplate"
   ]
  },
  {
   "cell_type": "code",
   "execution_count": null,
   "metadata": {},
   "outputs": [],
   "source": [
    "from langchain import PromptTemplate\n",
    "\n",
    "template = \"\"\"\n",
    "You are an expert data scientist with an expertise in building deep learning models. \n",
    "Explain the concept of {concept} in a couple of lines\n",
    "\"\"\"\n",
    "\n",
    "prompt = PromptTemplate(\n",
    "    input_variables=[\"concept\"],\n",
    "    template=template,\n",
    ")"
   ]
  },
  {
   "cell_type": "code",
   "execution_count": null,
   "metadata": {},
   "outputs": [
    {
     "data": {
      "text/plain": [
       "'Autoencoder is a type of artificial neural network used for learning efficient codings of input data. It consists of two parts: an encoder, which compresses the input data into a latent-space representation, and a decoder, which reconstructs the original data from the latent representation. They are primarily used for dimensionality reduction or noise reduction purposes.'"
      ]
     },
     "execution_count": 5,
     "metadata": {},
     "output_type": "execute_result"
    }
   ],
   "source": [
    "llm(prompt.format(concept=\"autoencoder\"))"
   ]
  },
  {
   "cell_type": "markdown",
   "metadata": {},
   "source": [
    "## Importing and defining the LLMChain with language model and prompt as arguments."
   ]
  },
  {
   "cell_type": "code",
   "execution_count": null,
   "metadata": {},
   "outputs": [
    {
     "name": "stdout",
     "output_type": "stream",
     "text": [
      "An autoencoder is a type of artificial neural network used for learning efficient codings of input data. It is an unsupervised learning technique where the network is trained to attempt to copy its input to its output, using a hidden layer that describes the code to represent the input. Essentially, autoencoders are used for reducing the dimensionality of data (compression) and noise reduction.\n"
     ]
    }
   ],
   "source": [
    "\n",
    "from langchain.chains import LLMChain\n",
    "chain = LLMChain(llm=llm, prompt=prompt)\n",
    "\n",
    "# Run the chain only specifying the input variable.\n",
    "print(chain.run(\"autoencoder\"))"
   ]
  },
  {
   "cell_type": "markdown",
   "metadata": {},
   "source": [
    "### Second Prompt"
   ]
  },
  {
   "cell_type": "code",
   "execution_count": null,
   "metadata": {},
   "outputs": [],
   "source": [
    "second_prompt = PromptTemplate(\n",
    "    input_variables=[\"ml_concept\"],\n",
    "    template=\"Turn the concept description of {ml_concept} and explain it to me like I'm five in 500 words\",\n",
    ")\n",
    "chain_two = LLMChain(llm=llm, prompt=second_prompt)"
   ]
  },
  {
   "cell_type": "markdown",
   "metadata": {},
   "source": [
    "## Define a sequential chain using the two chains above\n"
   ]
  },
  {
   "cell_type": "code",
   "execution_count": null,
   "metadata": {},
   "outputs": [
    {
     "name": "stdout",
     "output_type": "stream",
     "text": [
      "\n",
      "\n",
      "\u001b[1m> Entering new SimpleSequentialChain chain...\u001b[0m\n",
      "\u001b[36;1m\u001b[1;3mSelf-attention, in the context of deep learning models, is a mechanism that allows the model to focus on different parts of the input sequence when producing an output. It computes a weighted average of input features where weights are determined by the interactions between inputs themselves. This helps in contextualizing the information in the data, particularly useful in natural language processing tasks.\u001b[0m\n",
      "\u001b[33;1m\u001b[1;3mImagine you're reading a book of your favorite superhero story. You understand what's happening not only by reading each sentence or each word separately but because you're relating it with previous sentences, the whole page or even previous chapters. \n",
      "\n",
      "For example, when you read the word \"he,\" you often know who this \"he\" is, because of what you read before or what you guess will happen. This is called context: the \"he\" does not mean the same thing all the time, it depends on the situation. Similarly, self-attention in the world of smart computer programs, or artificial intelligence (AI), allows the computer to understand sentences or parts of information by looking at its surroundings or context.\n",
      "\n",
      "Imagine a group of kids who are playing a game. The kid with the magic cape has the power to read other kids’ minds, knowing what every kid is thinking. That's what the self-attention mechanism in AI does with parts of a sentence, or sequence. Using its 'magic cape', it looks at the whole sentence (or parts of it) instead of just a single word to understand its true meaning.\n",
      "\n",
      "For instance, think of the phrase \"The big brown dog chased the cat because it was hungry\". If you look at the word 'it', what does 'it' mean? Does it refer to the dog or the cat? Well, because we've read the whole sentence, and we know who usually does the chasing and who the running, we can guess that 'it' is probably referring to the dog. \n",
      "\n",
      "The AI system does something similar. It uses self-attention to calculate the 'weight' or importance of each word in relation to the others. For the above sentence, the AI might decide that 'it' is more related to 'dog' than to 'cat', so when understanding this sentence, it knows that 'it' most likely refers to the 'dog'. \n",
      "\n",
      "Self-attention is especially helpful in understanding and processing languages, like when you're using a translation tool or composing emails with the help of automated suggestions. It helps the AI understand that the meaning of a word often depends on its context within the sentence, and by extension, within a paragraph or a larger body of text.\n",
      "\n",
      "So, just like you understand a word by taking into account the words around it or the whole sentence, we can say that the AI uses self-attention to make sense of every word or piece of data depending on its context in the whole sequence. This makes AI models much smarter and way better at understanding languages, and that's why self-attention is pretty cool!\u001b[0m\n",
      "\n",
      "\u001b[1m> Finished chain.\u001b[0m\n",
      "Imagine you're reading a book of your favorite superhero story. You understand what's happening not only by reading each sentence or each word separately but because you're relating it with previous sentences, the whole page or even previous chapters. \n",
      "\n",
      "For example, when you read the word \"he,\" you often know who this \"he\" is, because of what you read before or what you guess will happen. This is called context: the \"he\" does not mean the same thing all the time, it depends on the situation. Similarly, self-attention in the world of smart computer programs, or artificial intelligence (AI), allows the computer to understand sentences or parts of information by looking at its surroundings or context.\n",
      "\n",
      "Imagine a group of kids who are playing a game. The kid with the magic cape has the power to read other kids’ minds, knowing what every kid is thinking. That's what the self-attention mechanism in AI does with parts of a sentence, or sequence. Using its 'magic cape', it looks at the whole sentence (or parts of it) instead of just a single word to understand its true meaning.\n",
      "\n",
      "For instance, think of the phrase \"The big brown dog chased the cat because it was hungry\". If you look at the word 'it', what does 'it' mean? Does it refer to the dog or the cat? Well, because we've read the whole sentence, and we know who usually does the chasing and who the running, we can guess that 'it' is probably referring to the dog. \n",
      "\n",
      "The AI system does something similar. It uses self-attention to calculate the 'weight' or importance of each word in relation to the others. For the above sentence, the AI might decide that 'it' is more related to 'dog' than to 'cat', so when understanding this sentence, it knows that 'it' most likely refers to the 'dog'. \n",
      "\n",
      "Self-attention is especially helpful in understanding and processing languages, like when you're using a translation tool or composing emails with the help of automated suggestions. It helps the AI understand that the meaning of a word often depends on its context within the sentence, and by extension, within a paragraph or a larger body of text.\n",
      "\n",
      "So, just like you understand a word by taking into account the words around it or the whole sentence, we can say that the AI uses self-attention to make sense of every word or piece of data depending on its context in the whole sequence. This makes AI models much smarter and way better at understanding languages, and that's why self-attention is pretty cool!\n"
     ]
    }
   ],
   "source": [
    "from langchain.chains import SimpleSequentialChain\n",
    "overall_chain = SimpleSequentialChain(chains=[chain, chain_two], verbose=True)\n",
    "\n",
    "# Run the chain specifying only the input variable for the first chain.\n",
    "explanation = overall_chain.run(\"self-attention\")\n",
    "print(explanation)"
   ]
  },
  {
   "cell_type": "code",
   "execution_count": null,
   "metadata": {},
   "outputs": [],
   "source": [
    "# Import utility for splitting up texts and split up the explanation given above into document chunks\n",
    "\n",
    "from langchain.text_splitter import RecursiveCharacterTextSplitter\n",
    "\n",
    "text_splitter = RecursiveCharacterTextSplitter(\n",
    "    chunk_size = 100,\n",
    "    chunk_overlap  = 0,\n",
    ")\n",
    "\n",
    "texts = text_splitter.create_documents([explanation])"
   ]
  },
  {
   "cell_type": "code",
   "execution_count": null,
   "metadata": {},
   "outputs": [
    {
     "data": {
      "text/plain": [
       "\"Imagine you're reading a book of your favorite superhero story. You understand what's happening not\""
      ]
     },
     "execution_count": 10,
     "metadata": {},
     "output_type": "execute_result"
    }
   ],
   "source": [
    "\n",
    "# Individual text chunks can be accessed with \"page_content\"\n",
    "\n",
    "texts[0].page_content\n"
   ]
  },
  {
   "cell_type": "markdown",
   "metadata": {},
   "source": [
    "## Import and instantiate OpenAI embeddings"
   ]
  },
  {
   "cell_type": "code",
   "execution_count": null,
   "metadata": {},
   "outputs": [
    {
     "name": "stderr",
     "output_type": "stream",
     "text": [
      "/Users/sanskar/git/work/langidk/langchain/lib/python3.9/site-packages/langchain/embeddings/openai.py:217: UserWarning: WARNING! model_name is not default parameter.\n",
      "                    model_name was transferred to model_kwargs.\n",
      "                    Please confirm that model_name is what you intended.\n",
      "  warnings.warn(\n"
     ]
    }
   ],
   "source": [
    "from langchain.embeddings import OpenAIEmbeddings\n",
    "\n",
    "embeddings = OpenAIEmbeddings(model_name=\"text-embedding-ada-002\")"
   ]
  },
  {
   "cell_type": "code",
   "execution_count": null,
   "metadata": {},
   "outputs": [
    {
     "name": "stdout",
     "output_type": "stream",
     "text": [
      "[-0.021061465044486107, -0.014878282253069653, 0.002943222397048378, 0.009964860928584621, -0.002211729752608917, 0.016424078416585053, -0.007204511168777163, -0.055068965740663764, -0.013084054862628676, -0.010199489955019715, 0.03941778447451384, -0.005151501832365317, -0.009136755907510126, -0.00145263375492638, 0.038065213529929795, 0.006956079941851585, 0.017845656638331236, 0.016920940870436205, -0.003409031296779799, -0.01324967568057906, 0.005051439138438304, 0.026319930205362392, 0.00815683133765316, -0.012442273960240292, 0.017666235482535507, -0.007011286881168381, 0.005096294427387236, -0.05639393228426685, -0.02114427452213873, 0.0034073060217184887, 0.012683804086920627, 0.006221136980120146, 0.0163826718151136, -0.0313575676089715, -0.04297863671705997, 0.0011904005603409614, -0.009516303382482449, -0.025767858949549305, 0.015030100870529554, -0.0163826718151136, 0.008419064765069222, -0.0207302215459402, 0.01287702930585198, -0.03958340715510937, -0.017058957287405623, 0.02851440744018885, -0.0034780399709257925, -0.019060211165945865, -0.021309895340089115, -0.004316496176706865, -0.0004597706698474771, 0.02059220512897078, 0.018439132632970638, -0.01708656168838659, -0.009053945498534935, 0.00449936927960907, -0.014878282253069653, -0.0010359935646278096, 0.010026968036824088, -0.034035105097158624, 0.0032089059089257747, 0.027230843772766942, 0.00704579145107202, -0.0026585613251578506, 0.0051307989972908755, 0.012725209757069509, 0.002976001459060064, -0.005824336754534719, -0.005151501832365317, -0.03353824078066233, 0.026292325804381424, 0.024953557060287863, -0.03963861223178102, -0.0004748663318688284, 0.003355549399693672, -0.02304891485989073, -0.012055825385022728, 0.005889894878558091, -0.013408396329606774, 0.008474271704386017, 0.02467752236370389, -0.029066476833356798, -0.018287314015510737, 0.05001752799920932, 0.0044890176292412065, 0.014491832746529518, 0.017583424142237746, 0.014657454495802472, -0.018135493535405695, -0.0006538577114022359, -0.0008143029952069926, -0.005755328080388725, 0.01779044969901444, 0.015154316949653628, -0.01229045441145782, 0.0034124816140717776, 0.004637386627901057, 0.004885817854826635, 0.005610409631851496, -0.021047662843995625, 0.005103195527632478, -0.009122953707019642, -0.03248931079628837, -0.004219883567241189, -0.016355069276777774, 0.007873895540823943, 0.011717682648876716, 0.029977392263406486, 0.010399615342873739, -0.008660595823072128, -0.01273211085731475, 0.05967874796758386, -0.013815547274237495, 0.00015440702481698217, -0.0012154162338227144, -0.032599724674921955, -0.025933479767499688, 0.0025377960289870403, -0.011255323833606631, -0.030501859118238606, -0.015637377203014297, -0.00977853680989851, 0.011793591957606667, 0.01162107003941104, 0.03591214103392965, -0.0043268473614134426, -0.006162479490680731, 0.0153061364984361, 0.0003226158135669934, -0.031744014321543924, 0.045849401286823584, 0.00863299235341373, 0.025174384817555042, -0.03605015931354421, 0.006614486655582953, 0.04496608653246459, -0.0068077109431917355, 0.01907401336643635, -0.023338751756965186, -0.016258455735989528, 0.006372956063241332, 0.026319930205362392, 0.011524457429945364, -0.010510029221507329, 0.014112285271557196, 0.0046339360777784356, 0.010558335991901452, 0.016562094833554468, -0.0004679654353503987, 0.017693838020871336, 0.0069974851463391816, -0.008757207501215234, -0.01479547184409446, -0.019087813704281694, 0.005227411141095267, 0.0486373526536443, -0.02623711886506463, 0.012145535962920591, 0.01825970961452977, -0.0032589372558892806, 0.016851931730628926, 8.572178153732355e-05, -0.007142403594876411, -0.012773515596141063, 0.02663736964077268, 0.035884540358238966, 0.006428163002558127, -0.007287321577752355, -0.012407769390336653, -0.009895851788777343, -0.01825970961452977, 0.018949797287312276, -0.03627098707081139, 0.015913413762243412, 0.003943848870657214, 0.018094088796579384, 0.010171886485361317, -0.011489953791364294, -0.016617301772871265, -0.02807275192565449, -0.020026333535312347, 0.042205739566624836, 0.03718190250086108, 0.01620324879667273, -0.02431867632682215, 0.011703880448386232, 0.01446422927687112, -0.008915928150242947, 0.031523186564276745, -0.0265683605009654, 0.010986189305945327, 0.026844395197549376, 0.0018356322456826088, -0.013843150743895891, -0.6094850868945723, 0.02771390588877275, -0.009005638728140811, -0.004568377953755063, 0.002118567926096504, 0.025905877229163862, 0.016506887894237675, 0.014257203720094425, -0.00815683133765316, -0.0018511591391577966, 0.00542408597882667, -0.011676276978727834, 0.011110405385069402, -0.023559579514232366, -0.0034159321641943985, -0.0025636742235841275, -0.0055068963878018625, 0.0010860249115913156, -0.011351935511749737, 0.019115418105262662, 0.01029610256448539, 0.03022582255900949, -0.02778291502858003, 1.777783464376267e-05, -0.00911605353809697, 0.012352562451019858, 0.006831864328388797, -0.022179406031312493, 0.005562103792779943, 0.0196260827596043, -0.05007273307588097, 0.026664972179108508, 0.012090329023603796, -0.013194468741262266, 0.03340022622633805, 0.024070244168574003, 0.014326211928579132, 0.02738266425287198, 0.013435999799265172, 0.03342782690202874, -0.0038782905138031987, -0.0028397091529987445, 0.019805505778045168, -0.003560850379900985, -0.009157458276923281, -0.0038403358594382236, -0.009171260477413765, -0.0025723003660600373, -9.52643963540212e-05, -0.0026085299781943446, 0.022966105382238106, -0.005210158856143447, -0.02187576693374755, -0.011765988487948268, 0.019115418105262662, -0.009509403213559777, 0.015733990743802544, -0.02048179125033719, 0.0077082751885348445, 0.01306335249321552, 0.011227720363948233, 0.010075274807218211, -0.016506887894237675, -0.013228973311165905, -0.02379420947199003, 0.03453196941365492, 0.006579982551340598, -0.005827787304657339, -0.014271004989262337, -0.013967366823019965, -0.0024963908244994442, -0.0048685660355361, -0.007722076923364043, 0.011752186287457785, -0.010040770237314572, 0.008343155456339272, 0.025933479767499688, -0.019046408965455383, 0.024856943519499616, 0.02870763079647506, -0.009985563297997777, -0.011462350321705896, -0.033041380189456314, -0.026775386057742098, 0.02522959175687184, -0.015030100870529554, -0.04397236162476228, -0.003105392897706784, -0.0025688500487680587, -0.010164985385116074, -0.014961092662044845, 0.01929484112370353, 0.009378286034190463, -0.0050928443429259, 0.017141768627703387, 0.003200279766449865, -0.03944538887549481, 0.025892075028673377, 0.026540757962629575, -0.007363231352143591, -0.028321182221257495, -0.015319937767604012, -0.0032537616635359918, 0.016148041857355938, 0.01954327141930654, 0.030860703292475204, -0.007314925513072038, -0.007625464779559651, 0.044634844896563816, -0.022496845466722776, 0.0032554867057666597, 0.010572137261069365, 0.001262859784609576, -0.02188956913423803, -0.007252817473510001, -0.027700103688282268, 0.006335001408876357, 0.01896359948780276, 0.01737639858546105, -0.012345661350774617, 0.03668504190965506, 0.020564600727989813, -0.027203241234431113, 0.0015397572351395273, -0.008688199292730524, 0.025878272828182895, -0.008370758925997668, -0.01077226264892339, -0.0233249495564747, -0.011041396245262123, 0.0008125777783533427, -0.0023152427638279075, 0.03781678509697193, 0.009178160646336437, 0.01730738944565377, -0.00048219848894492506, 0.011282927303265028, -0.015209523888970422, 0.0036298590540469787, -0.014740264904777665, -0.016686310912678543, -0.003409031296779799, 0.010178787585606558, 0.002639583997975363, -0.018659960390237817, -0.04253698120252561, -0.003459062643743305, 0.013601620617215556, -0.007018187981413623, 0.019750298838728374, -0.00804641745901957, -0.0068594677980471945, -0.0029656500415228436, 0.006987133961632604, -0.005610409631851496, -0.02172394831628765, 0.01944665974116343, -0.0048237102809258825, -0.03569131327666247, -0.0017804251899504926, 0.019612280559113817, 0.004288892707048467, 0.020081540474629143, 0.014409022337554325, -0.010171886485361317, -0.021792957456094927, 0.02925970205228815, 0.010668749870535042, -0.00606931789699896, -0.015071506540678434, -0.004385504850852859, -0.0016001398832249324, -0.01280111906579946, 0.020895842363890582, -0.029425322870238534, -0.014422824538044809, -0.008957332889069258, 0.027134232094623834, -0.006680044779606325, -0.0037609757677550095, -0.004195730647705412, -0.020260963493070012, 0.0031588745619622687, -0.015706386342821576, 0.01336008955921265, -0.005265366261121527, 0.019432857540672945, 0.027575887609158193, -0.023752804733163716, 0.0031209196747666508, 0.008405263495901307, -0.008398362395656066, 0.01616184405784642, 0.01734879418448008, -0.009695726400923317, 0.013090955962873917, 0.013442900899510413, 0.0029639249992921756, 0.000943694375646052, 0.023890821150133135, 0.0008147343139723202, 0.012973640983995087, 0.009178160646336437, -0.022897096242430824, 0.052777874965049064, -0.00797050815028962, 0.008198237007802043, -0.03210286035842566, 0.025505626453455815, 0.008377660026242911, 0.011648673509069438, -0.04612543412076242, 0.0006650716500547903, 0.0023186933139505285, 0.022759077962816267, 0.013015046654143967, 0.006956079941851585, 0.014588445355995194, -0.0033331215223885635, -0.0153061364984361, 0.021682543577461338, -0.026706378780579958, 0.0036333096041695997, -0.011062099545997848, -0.003867939329096621, 0.011738385018289872, 0.02538141037433174, 0.004216433482779853, -0.004275090972219269, -0.049272231524464874, -0.029204495112971355, -0.0036471113389987984, -0.022317422448281908, -0.008515677374534899, -0.020606007329461266, -0.011904005836240256, 0.013574017147557158, 0.002122018476219125, 0.04366872438984248, -0.011124207585559886, -0.009102251337606487, 0.04209532568799125, 0.01331868482038634, -0.02797613838486624, 0.005365428489387254, 0.000955770893621601, 0.019695091899411578, -0.02522959175687184, 0.0013465328311154238, 0.028017543123692555, -0.016562094833554468, 0.000838887349923418, -0.009060846598780176, 0.008736505131802078, -0.0080119138204385, -0.011731483918044629, -0.0012559589171949766, 0.02436008106564846, 0.01048242575184893, 0.007056142635778598, 0.005058339773022261, 0.0034866661134017023, 0.016575897034044954, 0.011310530772923426, 0.019087813704281694, -0.009537006683218175, -0.005337825019728857, -0.00915055717667804, -0.03207525595744469, 0.010192588854774472, -0.03273774295453651, -0.02361478645354916, 0.012849425836193583, 0.01424340151960394, 0.0013517085398840338, -0.006462667572461766, -0.004830610915509839, 0.02039897991003943, 0.00011408005903504436, 0.001673461628608881, 0.016644906173852232, -0.028900856015406415, 0.017100363888877076, 0.015209523888970422, 0.010792965018336546, -0.01609283491803914, -0.005724274060607706, -0.014519436216187915, -0.022441638527405983, 0.021944776073554828, -0.000984236942602993, 0.015181920419312024, -0.023656193055020612, 0.005482743468266086, -0.023255942279312564, 0.005303320915486502, 0.015444153846728086, -0.005596607897022297, -0.019419057202827602, 0.008101624398336366, 0.005168753651655851, -0.009419691704339343, -0.0054137347941200925, 0.01439522106838641, 0.02848680303920788, 0.03273774295453651, -0.0006874994691522382, -0.006276343919436941, -0.014160591110628748, -0.019874514917852446, 0.005603508997267539, 0.01368443102619075, -0.024856943519499616, 0.011213918163457749, -0.013070253593460762, 0.005313672100193081, -0.023311149218629357, -0.011310530772923426, 0.0046408371780236775, 0.011255323833606631, -0.00870890166214368, -0.042122930088972214, -0.015030100870529554, -0.017141768627703387, 0.08336254169829516, 0.013919060983948413, -0.009157458276923281, 0.016686310912678543, -0.01556836899452959, -0.022455440727896465, -0.02539521257482222, -0.01959847835862333, 0.022772880163306752, -0.009019440928631295, 0.008432866965559706, -0.003379702552060091, 0.013905258783457929, 0.006134876021022332, -0.02390462335062362, 0.022276017709455597, 0.017390198923306392, -0.03193724140312042, -0.01745920806311367, -0.0347527971709221, -0.0011809118967497177, 0.04284061843744541, 0.012262850941799424, 0.003069163285572477, 0.004451062974876231, -0.0009014265336278006, -0.014381418867895927, 0.006521325061901183, 0.0004511445564753976, -0.003086415337693654, -0.0007759169056613685, 0.005989957572485103, 0.032296083714711876, 0.01298744318448557, -0.009799239179311666, 0.013718935596094389, 0.02419446024769808, 0.03177161872252489, -0.007446041761118783, -0.00437170311602366, -0.0010118405286767117, 0.02321453567784111, 0.019750298838728374, -0.0005201533179328823, -0.007176907699118765, -0.010158085216193402, -0.028017543123692555, 0.019046408965455383, 0.0019512218330848088, -0.013615421886383471, 0.03905894216292238, -0.006980232861387362, -0.044110379904376835, 0.018659960390237817, 0.013401495229361533, -0.0034728643785725036, -0.009033242197799208, -0.018659960390237817, -0.0070664938204851755, -0.006410910717606307, -0.015319937767604012, 0.0049858805487536465, 0.002246234089681914, -0.02685819739803986, -0.016355069276777774, -0.025326203435014943, 0.009764735540730596, -0.0018684113076942951, -0.02128229280175329, 0.019253434522232077, 0.005838138489363917, 0.0047547016067798886, -0.03389708681754407, 0.01269070518716587, 0.007722076923364043, -0.009247169786143716, -0.006279794469559562, -0.027079025155307038, -0.01837012349316336, -0.0016260181942373407, -0.026540757962629575, -0.03199244647979207, 0.029232097651307184, -0.03765116241637641, -0.006248740449778543, -0.010530732522243054, -0.009440394073752498, -0.014767868374436062, -0.0034073060217184887, 0.01984691051687148, 0.008039517290096899, 0.007853193171410788, 0.009537006683218175, 0.009806140279556909, 0.007701374088289603, -0.01538894690741129, 0.00496172762921787, -0.008757207501215234, -0.006448865837632568, -0.013656827556532351, 0.030391445239605016, -8.146264697290731e-05, -0.016851931730628926, -0.014105384171311953, 0.0008557082579022494, 0.0013344562549322142, -0.02304891485989073, 0.01708656168838659, -0.0041198213389754615, -0.030639875535208024, 0.020495593450827677, 0.0038023809722426056, -0.016520690094728157, -0.026030093308287934, 0.0022100044775476063, 0.012745912126482664, 0.014616048825653592, 0.028542009978524675, 0.004033560379877648, -0.017169371166039213, -0.016437878754430396, -0.048609748252663336, 0.048057678859495384, 0.016479285355901846, 0.004664990097559454, -0.01431241065941122, 0.0186737625907283, -0.0008397499874540732, 0.002875938765133052, -0.00970262750116856, -0.011351935511749737, 0.0015742616886278455, 0.004668440647682075, -0.006545477981436959, -0.03950059767745675, -0.004130172523682039, -0.000345474951429769, -0.012518183268970242, -0.021930973873064342, -0.003089865887816275, -0.020799230685747478, 0.005972705287533284, 0.005976155837655905, -0.03999745826866276, 0.015319937767604012, -0.04339268783061336, 0.0029156186945593376, -0.007466744596193224, -0.014084681801898797, -0.004861664935290858, -0.018949797287312276, -0.00977163570965327, -0.0038161827070718043, 0.009143657007755369, -0.002463611529657115, -0.033372621825357086, -0.02074402374643068, 0.002265211649695044, 0.01369133212643599, 0.012228346371895784, 0.02881804467510865, 0.010020067867901416, -0.010489326852094173, -0.006728351084339164, -0.010606641830973004, 0.007701374088289603, -0.012870128205606738, -0.022124199091995696, -0.017473010263604156, 0.01744540586262319, 0.010047671337559813, -0.00012550962796643213, 0.019432857540672945, -0.02246924292838695, 0.0038023809722426056, 0.0008820178294723247, 0.006441964737387326, -0.008136128968240005, 0.008695099461653196, -0.027079025155307038, 0.007901499941804911, 0.015457955115896, -0.0036229581866323796, 0.004820259730803261, -0.023628588654039644, -0.025726454210722994, 0.017956070516964826, 0.01069635334019344, 0.013008145553898726, -0.03271013855355555, 0.01497489393121276, 0.016631103973361747, 0.03353824078066233, -0.02173775051677813, 0.026030093308287934, -0.001042894432042409, 0.025409014775312707, -0.00999936456716569, 0.011779789757116183, 0.029563339287207953, 0.042012512485048344, 0.011759087387703027, 0.015375144706920807, -0.012035122084287002, -0.016327464875796806, 0.011172513424631438, -0.01936385026351081, -0.009599113791457642, -0.015651179403504783, -0.016838129530138444, 0.0020754374465475974, 0.0029656500415228436, -0.0076185636793144095, -0.04071515034242623, 0.023518174775406055, 0.0014836876582920771, 0.0020737124043169295, 0.02161353443765406, -0.021171878923119697, -0.0267201791184253, 0.005679418305997489, -0.03248931079628837, 0.018577149049940053, 0.011828096527510306, 0.019639884960094785, 0.024622315424387094, -0.0011584840194446089, -0.022676268485163645, -0.01387075421355429, -0.004219883567241189, 0.0030501857255593465, 0.010427218812532136, 0.003189928581743287, -0.03353824078066233, -0.03309658526612797, 0.012587192408777521, 0.0050928443429259, -0.01331868482038634, -0.02994978786242552, 0.010061472606727727, 6.728350822404691e-05, -0.013843150743895891, 0.0021133923337432153, -0.0011006892839511696, 0.009902752889022584, 0.033952295619506, 0.0011576213819139538, 0.014478031477361604, -0.016148041857355938, -0.040356304305544495, -0.033372621825357086, 0.0026999665296454467, -0.028321182221257495, 0.017707640221361818, -0.006793909208362536, 0.00815683133765316, -0.02423586498652439, 0.008501875174044415, -0.009447295173997741, 0.015002497400871156, -0.0025619491813534596, 0.028459200500872053, -0.011897104735995015, 0.0029104431022060487, 0.0055068963878018625, 0.004230235217609051, -0.0048547643007069005, 0.00121282843764607, 0.0239736324904309, 0.02139270668038688, -0.00492722305931423, 0.0014371067450358707, 0.012387067020923497, -0.02262106154584685, 0.023338751756965186, -0.007370132452388833, -0.010240895625168596, -0.005879543693851514, 0.004568377953755063, -0.0213236975405796, 0.013456702168678327, 0.005824336754534719, -0.02478793624233748, -0.0004442436890607982, -0.023338751756965186, -0.016437878754430396, 0.000773760370042391, -0.024553306284579815, -0.004209532382534611, 0.009909653057945255, -0.011904005836240256, -0.02862482131882244, 0.004699494667463094, 0.010861974158143824, 0.003103667622645474, -0.005827787304657339, 0.025698851672387165, 0.039224561118227634, -0.023186933139505286, 0.009868248319118944, 0.01103449607633945, 0.005358527854803298, -0.021337499741070083, 0.007915301210972826, 0.008515677374534899, -0.042343757846239394, 0.026775386057742098, -0.009550807952386088, 0.0070285391661202, -0.020191954353262733, -0.017404001123796878, -0.010820568487994942, -0.014933489192386448, -0.04377913826847606, -0.014850678783411255, 0.013180667472094353, 0.009957959828339379, -0.023711399994337405, -0.02044038464886574, 0.023407760896772465, 0.022082792490524247, 0.006245289899655923, 0.020937248965362035, -0.003519445175413389, 0.002030581924768023, -0.0005723411423077051, 0.006966431126558163, -0.00022578793762036262, -0.007094097290143573, -0.02143411141921319, 0.0013146162902190712, 0.007135502494631169, -0.050376374036091055, -0.010261597994581751, -0.0038955427987550184, -0.02291089844292131, 0.0020599106694877307, -0.0097371320710722, 0.018066484395598416, -0.02800374278584721, 0.008315551986680873, -0.0070216380658749585, 0.008764108601460475, 0.0005261915478168264, -0.01225594984155418, -0.0011619344531519087, 0.0035919043996820036, 0.0043026944418776665, -0.018977399825648104, -0.016851931730628926, -0.02914928631100942, 0.03558089939802888, 0.001387075514487686, -0.019156822844088973, -0.01446422927687112, -0.015816800221455166, -0.03268253415257458, -0.006345352593582935, -0.022662466284673163, 0.00830174978619039, 0.024291071925841182, 0.01589961156175293, -0.0022634863746337336, 0.030060201741059108, 0.010965486936532171, 0.029894580923108722, -0.0003118331936797667, -0.004965178179340491, -0.011165612324386197, -0.005562103792779943, -0.007135502494631169, 0.0012102406414694256, -0.01970889223725692, -0.021930973873064342, 0.03886571508134589, -0.006935377106777145, -0.01779044969901444, 0.01918442724506994, -0.0025550480811082177, -0.016907138669945723, 0.008805514271609357, -0.03668504190965506, 0.011876402366581858, -0.013967366823019965, 0.011324332042091339, -0.006041714427340562, -0.012014419714873846, 0.0025395213040483506, -0.01099999150643581, -0.055814258490117924, -0.015954818501069723, 0.01147615159087381, 0.0018649608739869955, -0.0024825890896702455, -0.01324277551165639, 0.0008910752325059015, -0.012718308656824266, -0.0025377960289870403, 0.02608530024760473, 0.022897096242430824, -0.03320699914476156, 0.03069508247452482, 0.01512671347999523, 0.005962354102826706, 0.0064316135526807485, -0.001652759026365083, -0.005689769490704067, -0.01140024228214386, 0.006231488164826724, -0.004347549730826598, 0.01250438199980233, -0.0017787000313045033, 0.006521325061901183, -0.025188187018045528, -0.0013189293614570261, 0.017942270179119483, -0.0071907094339479635, -0.009233367585653232, 0.009902752889022584, 0.0106618487702898, -0.020012531334821865, 0.022110396891505214, 0.012235247472141025, -0.00033210450626206754, -0.004192280097582791, -0.010634245300631402, 0.014892083522237566, -0.025850670289847066, -0.00033404538249838116, 0.001013565687322701, -0.010378912973460584, -0.03392469121852503, -0.009619817092193367, -0.0032554867057666597, -0.02516058261706456, 0.009654321662097006, 0.22259455813925072, -0.0024394586101213387, 0.018839383408678686, 0.028031345324183037, 0.01966748749843061, 0.006404010083022351, 0.003329671205096585, -0.002042658384535911, -0.026402739683015018, -0.020978653704188346, 0.01420199678077763, -0.013146162902190712, -0.006300496838972718, 0.010841271788730669, -0.009274773255802114, -0.02829357968292167, -0.012821821435212615, -0.04121201465892253, -0.0013724111421278319, -0.026292325804381424, 0.005368879039509875, -0.00025231315402118653, -0.028155561403307112, -0.020316170432386805, 0.010855073057898582, 0.00811542659882685, 0.0011213918861949677, 0.01649308569374719, 0.005962354102826706, 0.012932236245168776, -0.02257965680702054, -0.030915910231792, 0.009350682564532064, 0.015540765524871191, -0.035415280442723636, 0.024774134041846994, 0.015513162055212795, 0.004016308094925828, -0.02328354481764839, 0.007128601860047212, -0.015292334297945616, 0.023573381714722848, 0.020868239825554757, -0.007480546331022422, -0.0072597181080939575, -0.007018187981413623, -0.0011636597282132192, -0.020868239825554757, 0.010530732522243054, 0.004530423299390088, -0.010123580646289763, -0.02081303288623796, 0.041046391978327004, 0.023711399994337405, 0.00970262750116856, 0.005248113976169707, -0.006828413778266176, 0.004254388137144828, -0.02959094368818892, -0.0036402104715841993, -0.01952947108146119, 0.0011464075596767207, 0.009578411422044486, 0.024760331841356512, 0.010965486936532171, 0.05785691710748448, -0.005148051282242695, 0.023780407271499545, 0.004364802015778418, 0.003574652114730184, -0.025657445070915715, -0.008853820110680909, -0.0207302215459402, 0.008508776274289656, 0.015402748176579205, 0.010641146400876645, 0.024636115762232437, 0.019143020643598487, 0.023628588654039644, 0.023642390854530126, -0.004102569054023642, -0.01320827094175275, -0.011966113875802294, 0.007377033086972789, -0.021020058443014657, -0.01744540586262319, 0.026996215677654416, 0.02774150842710858, -0.023683795593356437, 0.023849416411306824, 0.02048179125033719, -0.006203884695168326, 0.003543598327779808, -0.004192280097582791, 0.011531358530190605, -0.02467752236370389, -0.01741780332428736, 0.008094724229413694, -0.016217050997163217, -0.011772889588193511, -0.020191954353262733, 0.007570257374581572, -0.006435064102803369, 0.017404001123796878, -0.019722694437747407, -0.01198681624521545, 0.023338751756965186, 0.0034573373686819947, 0.014657454495802472, -0.0067387022690457415, 0.007466744596193224, -0.01849433957228743, 0.009882049588286859, 0.008660595823072128, -0.009385187134435704, 0.024870745719990102, 4.82791544971293e-05, -0.014519436216187915, 0.033289812347704464, -0.0016691486737862474, -0.004668440647682075, 0.013180667472094353, 0.003833434992023624, 0.01262169697868116, 0.014547039685846313, 0.010102878276876608, -0.005672517671413533, 0.010827469588240185, 0.011855699997168703, -0.013463603268923569, 0.007880796641069186, -0.022082792490524247, 0.021227085862436493, -0.01837012349316336, 0.007197610534193205, -0.0024877646820235344, 0.007294222677997597, -0.006707648249264723, 0.003070888560633787, -0.019350048063020323, -0.0026154308456089437, 0.0074736452307771805, -0.013884556414044773, 0.03903133776194142, 0.004547675118680623, -0.013118559432532316, 0.03651941922905954, -0.009502502113314536, 0.004306144526339002, -0.03345543130300971, -0.022276017709455597, 0.0007207099081369128, -0.0009126404722803548, -0.022193208231802975, 0.027796715366425372, -0.018811779007697718, -0.007770382762435596, -0.026816792659213547, 0.014105384171311953, 0.013146162902190712, -0.010765361548678147, 0.03146798148760509, 0.030860703292475204, -0.027506880331996057, 0.00977853680989851, -0.00015386790546415295, -0.17533737338059088, 0.005389581874584316, -0.0029328709795111573, -0.03367625906027689, 0.038092817930910766, 0.016810526991802615, 0.030391445239605016, 0.013070253593460762, -0.025905877229163862, -0.006821512678020934, 0.00228763929416951, 0.009647420561851765, -0.029452925408574363, -0.026816792659213547, 0.009026342028876536, -0.002943222397048378, -0.05824336754534719, 0.01812169319756035, 0.013387693028871049, -0.001792501766133702, 0.02678918825823258, -0.013035749023557123, 0.055621035133831716, 0.016810526991802615, 0.0010601466005789072, 0.006938827656899765, 0.01821830487570346, -0.008715802762388923, -0.001129155274724901, -0.008915928150242947, -0.0006616212163474905, -0.01613424151951059, 0.008460470435218102, -0.0030381092657914585, 0.04651188455862513, 0.011358836611994978, -0.02786572450623265, 0.028956062954723208, -0.0005895933108442036, 0.011600367669997884, 0.027838121967896826, 0.014616048825653592, 0.018204502675212973, -0.010240895625168596, -0.010399615342873739, 0.015181920419312024, 0.02738266425287198, 0.016575897034044954, -0.010675650039457713, 0.0014207172140300276, 0.0076185636793144095, -0.001397426815609585, 0.015775395482628855, 0.00765306824921805, -0.012739011026237423, 0.016355069276777774, 0.013001244453653483, 0.010820568487994942, 0.006731801634461784, -0.01010977844579928, -0.0062418393495333015, -0.020040135735802832, -0.011089703015656246, 0.006393658898315773, -0.02992218532408969, -0.005603508997267539, 0.018535744311113742, -0.011345035342827065, -0.03607776371452518, 0.03121954932935694, -0.008805514271609357, -0.013366990659457893, -0.008281047416777234, -0.009219566316485319, 0.01768003582038085, -0.006662792960315791, -0.011048297345507364, -0.025367608173841254, 0.012242148572386268, 0.008867621379848823, -9.170613295538962e-05, 0.030419047777940845, -0.026223316664574146, -0.0035366974603652087, 0.029397718469257567, -0.0052757174458281045, -0.0021944777004877397, 0.0024584359373038263, -0.003964551705731655, -0.00675250400387494, 0.01671391345101437, -0.033510640104971644, -0.007570257374581572, -0.002670637784925739, 0.0031761268469140884, 0.012449175060485535, 0.004792656261144864, -0.008018813989361172, 0.01723838030584649, -0.036574628031021475, -0.014961092662044845, 0.015554567725361675, 0.013636125187119196, -0.007673770618631205, 0.020937248965362035, 0.005727724610730327, 0.034808002247593756, 0.006907773637118747, 0.03878290560369327, -0.003940398320534593, -0.011676276978727834, -0.02158593003667309, -0.0024360080599987177, 0.0029932537440118838, -0.0009411065212617469, 0.038920923883307826, -0.015319937767604012, 0.006780107473533337, 0.003065712735449856, -0.013525711308485606, 0.04954826808369399, -0.000968710049127805, -0.02892845855374224, -0.020136747413945937, -0.012607894778190677, -0.02800374278584721, -0.1295155876706191, -0.030363840838624048, 0.019488064479989742, 0.03825844061150629, 0.015002497400871156, -0.016217050997163217, 0.002881114357486341, -0.013601620617215556, 0.0017131416744504881, 0.0362433863951207, -0.035028830004860935, -0.017928467978629, 0.04278541336077376, -0.03177161872252489, -0.0005857116165792369, -0.010558335991901452, 0.013408396329606774, -0.022883294041940342, -0.0038920922486323974, 0.027437871192188778, -0.019419057202827602, 0.013732736865262302, 0.009537006683218175, -0.025215789556381353, -0.024746529640866027, -0.006707648249264723, -0.01708656168838659, 0.019018806427119554, 0.021102869783312418, 0.005503446303340527, -0.007666869984047248, -0.03527726216310908, -0.008253443947118837, -0.031964842078811104, -0.003057086592973946, 0.009902752889022584, -0.006686945879851567, -0.000798776043524144, 0.00922646741673056, -0.015582171195020074, -0.00605206561204714, 0.0015414825102008378, -0.020233359092089044, -0.01810789099706987, -0.020606007329461266, -0.013132360701700228, -0.01613424151951059, 0.029342511529940773, -0.0009643969778898501, -0.027548285070822368, -0.02361478645354916, 0.0065075233270719835, -0.020895842363890582, -0.013974267923265208, 0.042260944643296494, 0.0025705750909987266, -0.009757834440485355, 0.0024825890896702455, -0.016920940870436205, -0.012663101717507471, -0.023269742617157908, -0.009564610152876572, -0.02039897991003943, 0.029011269894040004, 0.02176535305511396, -0.02061980766730661, -0.0008207725438562643, -0.0022790133845242426, 0.030474254717257638, -0.014491832746529518, -0.016065232379703313, 0.018977399825648104, -0.01859095125043054, 0.024028839429747692, -0.02085443762506427, -0.026264721403400457, 0.005096294427387236, 0.003414206889133088, 0.002515368151681932, 0.004133623073804661, -0.013028847923311881, -0.03781678509697193, -0.005672517671413533, 0.016437878754430396, 0.032296083714711876, -0.013084054862628676, 0.0018356322456826088, 0.036629833107693126, -0.00758405910941077, 0.012635498247849075, -0.0023739002532673233, 0.03422832845344484, 0.018811779007697718, 0.009564610152876572, -0.037844385772662616, -0.005693220040826688, 0.034338742332078426, -0.013456702168678327, 0.002679263927401649, 0.013677529925945507, -0.009647420561851765, -0.005596607897022297, -0.004012857544803208, 0.03743033465910923, -0.00449936927960907, 0.006655891860070549, 0.027424068991698292, -0.025933479767499688, -0.001956397425438098, -0.007701374088289603, 0.0021841262829505196, -0.0003187340610943661, 0.008833117741267753, 0.0247189271025302, 0.008791712071118873, -0.010834370688485426, 0.0016303312654752957, 0.010178787585606558, -0.009951058728094138, -0.0017450582153468405, -0.0048927189550718765, 0.013222072210920664, 0.0019822758528658274, -0.01254578673862864, 0.026181911925747835, 0.021171878923119697, 0.007063043270362554, 0.012221446202973113, -0.015802999883609822, 0.020757825946921167, -0.0003752349567071439, -0.023228337878331597, 0.019653685297940128, -0.012518183268970242, 0.00039701585586426105, 0.025698851672387165, 0.016631103973361747, 0.00631084848934058, -0.005196357121314248, 0.00689742245241217, 0.023932227751604588, 0.06856707451081355, -0.012649300448339559, -0.025519428653946297, 0.0006232350685942058, -0.035111643207803835, -0.0033331215223885635, 0.022869493704095, -0.03248931079628837, -0.0065765320012179775, 0.033372621825357086, -0.000958358748005906, -0.00789459884155967, 0.004913421324485032, -0.006172830675387308, -0.005434437629194533, -0.02183436219492124, -0.03745793906009019, 0.027838121967896826, 0.020978653704188346, 0.01556836899452959, -0.024304874126331668, 0.040052667070624694, 0.021199481461455526, 0.013139261801945471, -0.03033623643764308, 0.022276017709455597, 0.016396474015604085, 0.0003392210330593307, 0.012973640983995087, -0.00375407490034041, -0.03202005088077304, -0.0032968921430848986, 0.0074253393917056276, 0.012600993677945435, -0.0015190546328957292, 0.013159965102681196, -0.009136755907510126, -0.014098483071066712, 0.0002281601180700887, -0.024705124902039716, 0.024801736580182823, 0.017321191646144256, -0.00024972532874071175, 0.004654638912852877, 0.020247161292579526, 0.00032520363884746813, -0.00216859927306001, 0.022648664084182677, 0.002806930090987058, 0.0163826718151136, 0.013677529925945507, -0.012628597147603832, 0.013656827556532351, 0.00992345525843574, -0.02851440744018885, 0.013449801068433085, -0.018880788147504997, -0.010247796725413838, 0.004150874893095195, 0.015982421039405552, -0.004896169505194497, 0.011869501266336617, 0.0019098166285972126, -0.00266546219257245, 0.010951685667364259, -0.02612670498643104, 0.019281038923213045, -0.0171831733665297, -0.0384516639677925, -0.008570884313851694, 0.021158076722629215, 0.0037368226153885902, -0.032516911471979056, 0.0030881406127549645, -0.0009825117839570038, -0.018811779007697718, 0.010392714242628496, -0.012628597147603832, -0.016175646258336906, -0.03397990002048697, 0.01852194211062326, 0.00020023314478578036, 0.018908392548485965, 0.009819942480047392, -0.040825564221059825, 0.0044717658099506724, -0.01191780710540817, 0.022745277624970923, -0.021351300078915426, 0.004106019604146263, -0.01037201187321534, -0.00867439709224004, 0.005244663426047087, -0.031495582163295774, -0.0207302215459402, 0.009095350237361246, 0.004840962565877702, -0.00915055717667804, 0.011979915144970207, -0.00841216366482398, 0.05534500229989288, 0.015664981603995265, -0.011641772408824195, 0.010523831421997813, -0.015071506540678434, 0.01538894690741129, -0.00193742009825561, 0.014547039685846313, -0.012980542084240328, 0.023076519260871696, 0.03171641364585324, -0.009516303382482449, 0.006407460633144972, -0.023669993392865955, -0.040135476548277316, -0.006245289899655923, 0.01080676721882703, 0.013663728656777594, 0.0015673607047979247, -0.010648046569799317, 0.019764099176573718, -0.013601620617215556, 0.02648555102331278, -2.8843492918820434e-05, -0.008094724229413694, 0.010047671337559813, 0.02187576693374755, 0.029094079371692626, -0.01084817195765334, -0.03660222870671216, -0.008950431788824017, 0.00878481097087363, -0.017776649361169097, -0.03163360044291033, 0.030860703292475204, 0.026927206537847137, 0.015112911279504745, -0.013187568572339594, 0.022276017709455597, 0.01620324879667273, 0.028265975281940702, 0.03362105398360523, -0.029646150627505714, 0.0021755001404746097, -0.004972078813924447, 0.009081548968193331, -0.02453950408408933, 0.0076392665143888505, -0.0301154086803759]\n"
     ]
    }
   ],
   "source": [
    "\n",
    "# Turn the first text chunk into a vector with the embedding\n",
    "\n",
    "query_result = embeddings.embed_query(texts[0].page_content)\n",
    "print(query_result)"
   ]
  },
  {
   "cell_type": "markdown",
   "metadata": {},
   "source": [
    "## Creating an agent to solve a simple quadratic equation"
   ]
  },
  {
   "cell_type": "code",
   "execution_count": null,
   "metadata": {},
   "outputs": [],
   "source": [
    "# Import Python REPL tool and instantiate Python agent\n",
    "\n",
    "from langchain.agents.agent_toolkits import create_python_agent\n",
    "from langchain.tools.python.tool import PythonREPLTool\n",
    "from langchain.python import PythonREPL\n",
    "from langchain.llms.openai import OpenAI\n",
    "\n",
    "agent_executor = create_python_agent(\n",
    "    llm=OpenAI(model_name=\"gpt-3.5-turbo-1106\" ,temperature=0, max_tokens=1000),\n",
    "    tool=PythonREPLTool(),\n",
    "    verbose=True\n",
    ")\n"
   ]
  },
  {
   "cell_type": "code",
   "execution_count": null,
   "metadata": {},
   "outputs": [
    {
     "name": "stdout",
     "output_type": "stream",
     "text": [
      "\n",
      "\n",
      "\u001b[1m> Entering new AgentExecutor chain...\u001b[0m\n",
      "\u001b[32;1m\u001b[1;3mI can use the quadratic formula to find the roots of the quadratic function.\n",
      "Action: Python_REPL\n",
      "Action Input: import cmath\u001b[0m\n",
      "Observation: \u001b[36;1m\u001b[1;3m\u001b[0m\n",
      "Thought:\u001b[32;1m\u001b[1;3mI need to define the coefficients of the quadratic function and then use the quadratic formula to find the roots.\n",
      "Action: Python_REPL\n",
      "Action Input: a = 3, b = 2, c = -1\u001b[0m\n",
      "Observation: \u001b[36;1m\u001b[1;3mSyntaxError('cannot assign to literal', ('<string>', 1, 5, 'a = 3, b = 2, c = -1\\n'))\u001b[0m\n",
      "Thought:\u001b[32;1m\u001b[1;3mI need to define the coefficients separately.\n",
      "Action: Python_REPL\n",
      "Action Input: a = 3\u001b[0m\n",
      "Observation: \u001b[36;1m\u001b[1;3m\u001b[0m\n",
      "Thought:\u001b[32;1m\u001b[1;3mI need to define the other coefficients separately as well.\n",
      "Action: Python_REPL\n",
      "Action Input: b = 2\u001b[0m\n",
      "Observation: \u001b[36;1m\u001b[1;3m\u001b[0m\n",
      "Thought:\u001b[32;1m\u001b[1;3mI can now use the quadratic formula to find the roots.\n",
      "Action: Python_REPL\n",
      "Action Input: root1 = (-b + cmath.sqrt(b**2 - 4*a*c)) / (2*a), root2 = (-b - cmath.sqrt(b**2 - 4*a*c)) / (2*a)\u001b[0m\n",
      "Observation: \u001b[36;1m\u001b[1;3mSyntaxError('cannot assign to operator', ('<string>', 1, 9, 'root1 = (-b + cmath.sqrt(b**2 - 4*a*c)) / (2*a), root2 = (-b - cmath.sqrt(b**2 - 4*a*c)) / (2*a)\\n'))\u001b[0m\n",
      "Thought:\u001b[32;1m\u001b[1;3mI made a mistake in trying to assign the roots in a single line. I should assign them separately.\n",
      "Action: Python_REPL\n",
      "Action Input: root1 = (-b + cmath.sqrt(b**2 - 4*a*c)) / (2*a)\u001b[0m\n",
      "Observation: \u001b[36;1m\u001b[1;3m\u001b[0m\n",
      "Thought:\u001b[32;1m\u001b[1;3mI need to define the value of c.\n",
      "Action: Python_REPL\n",
      "Action Input: c = -1\u001b[0m\n",
      "Observation: \u001b[36;1m\u001b[1;3m\u001b[0m\n",
      "Thought:\u001b[32;1m\u001b[1;3mI now know the final answer\n",
      "Final Answer: root1 = (0.3333333333333333+0j), root2 = (-1+0j)\u001b[0m\n",
      "\n",
      "\u001b[1m> Finished chain.\u001b[0m\n"
     ]
    },
    {
     "data": {
      "text/plain": [
       "'root1 = (0.3333333333333333+0j), root2 = (-1+0j)'"
      ]
     },
     "execution_count": 15,
     "metadata": {},
     "output_type": "execute_result"
    }
   ],
   "source": [
    "# Execute the Python agent\n",
    "\n",
    "agent_executor.run(\"Find the roots (zeros) if the quadratic function 3 * x**2 + 2*x -1\")     "
   ]
  }
 ],
 "metadata": {
  "kernelspec": {
   "display_name": "langchain",
   "language": "python",
   "name": "python3"
  },
  "language_info": {
   "codemirror_mode": {
    "name": "ipython",
    "version": 3
   },
   "file_extension": ".py",
   "mimetype": "text/x-python",
   "name": "python",
   "nbconvert_exporter": "python",
   "pygments_lexer": "ipython3",
   "version": "3.10.11"
  }
 },
 "nbformat": 4,
 "nbformat_minor": 2
}
